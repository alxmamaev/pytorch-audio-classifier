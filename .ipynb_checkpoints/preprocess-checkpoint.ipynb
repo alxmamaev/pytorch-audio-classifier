{
 "cells": [
  {
   "cell_type": "code",
   "execution_count": 1,
   "metadata": {
    "colab": {
     "autoexec": {
      "startup": false,
      "wait_interval": 0
     }
    },
    "colab_type": "code",
    "id": "QkVOuBR3doTw"
   },
   "outputs": [],
   "source": [
    "import numpy as np\n",
    "import torchaudio\n",
    "from tqdm import tqdm\n",
    "from matplotlib import pyplot as plt\n",
    "import pandas as pd\n",
    "import os\n",
    "\n",
    "from matplotlib import pyplot as plt\n",
    "\n",
    "%matplotlib inline"
   ]
  },
  {
   "cell_type": "code",
   "execution_count": 2,
   "metadata": {
    "colab": {
     "autoexec": {
      "startup": false,
      "wait_interval": 0
     }
    },
    "colab_type": "code",
    "id": "zTSyWzTqdoT-"
   },
   "outputs": [],
   "source": [
    "padding = torchaudio.transforms.PadTrim(94760)\n",
    "mel_encoder = torchaudio.transforms.MEL\n",
    "\n",
    "train_datapath = \"./audio/\"\n",
    "test_datapath = \"./test/\"\n",
    "\n",
    "train_csv = pd.read_csv(\"train.csv\")\n",
    "val_csv = pd.read_csv(\"val.csv\")\n",
    "test_csv = pd.read_csv(\"test.csv\")\n",
    "\n",
    "train_mels = []\n",
    "val_mels = []\n",
    "test_mels = []"
   ]
  },
  {
   "cell_type": "code",
   "execution_count": null,
   "metadata": {
    "colab": {
     "autoexec": {
      "startup": false,
      "wait_interval": 0
     }
    },
    "colab_type": "code",
    "id": "Q5IEZOpfdoUD",
    "outputId": "4fe199e9-d450-4d0b-83d9-764a14c576ba"
   },
   "outputs": [
    {
     "name": "stderr",
     "output_type": "stream",
     "text": [
      " 89%|████████▉ | 6767/7575 [01:51<00:13, 60.59it/s]"
     ]
    }
   ],
   "source": [
    "for file_name in tqdm(train_csv[\"name\"]):\n",
    "    file_path = os.path.join(train_datapath, file_name)\n",
    "    audio, rate = torchaudio.load(file_path)\n",
    "    audio = padding(audio)\n",
    "    \n",
    "    \n",
    "    mel = mel_encoder(sr=rate)(audio)\n",
    "    train_mels.append(mel.squeeze().unsqueeze(dim=0))"
   ]
  },
  {
   "cell_type": "code",
   "execution_count": null,
   "metadata": {
    "colab": {
     "autoexec": {
      "startup": false,
      "wait_interval": 0
     }
    },
    "colab_type": "code",
    "id": "HgUY5qXJdoUL",
    "outputId": "89326060-014c-44de-94f0-dac5249ddea3"
   },
   "outputs": [],
   "source": [
    "plt.imshow(train_mels[99][0].data.numpy())"
   ]
  },
  {
   "cell_type": "code",
   "execution_count": null,
   "metadata": {
    "colab": {
     "autoexec": {
      "startup": false,
      "wait_interval": 0
     }
    },
    "colab_type": "code",
    "id": "qJgBjqR9doUR",
    "outputId": "9e5afa93-1a2e-4af6-98e4-a0cdf6becfc5"
   },
   "outputs": [],
   "source": [
    "for file_name in tqdm(val_csv[\"name\"]):\n",
    "    file_path = os.path.join(train_datapath, file_name)\n",
    "    audio, rate = torchaudio.load(file_path)\n",
    "    audio = padding(audio)\n",
    "    \n",
    "    \n",
    "    mel = mel_encoder(sr=rate)(audio)\n",
    "    val_mels.append(mel.squeeze().unsqueeze(dim=0))"
   ]
  },
  {
   "cell_type": "code",
   "execution_count": null,
   "metadata": {
    "colab": {
     "autoexec": {
      "startup": false,
      "wait_interval": 0
     }
    },
    "colab_type": "code",
    "id": "Os9vPCRXdoUV",
    "outputId": "653a6991-a259-48cc-b0c9-026047d29905"
   },
   "outputs": [],
   "source": [
    "plt.imshow(val_mels[99][0].data.numpy())"
   ]
  },
  {
   "cell_type": "code",
   "execution_count": null,
   "metadata": {
    "colab": {
     "autoexec": {
      "startup": false,
      "wait_interval": 0
     }
    },
    "colab_type": "code",
    "id": "sd-qCvT1doUa",
    "outputId": "e3fa5f11-0d76-4c1c-a478-1f2d9fbe3b2e"
   },
   "outputs": [],
   "source": [
    "for file_name in tqdm(test_csv[\"name\"]):\n",
    "    file_path = os.path.join(test_datapath, file_name)\n",
    "    audio, rate = torchaudio.load(file_path)\n",
    "    audio = padding(audio)\n",
    "    \n",
    "    \n",
    "    mel = mel_encoder(sr=rate)(audio)\n",
    "    test_mels.append(mel.squeeze().unsqueeze(dim=0))"
   ]
  },
  {
   "cell_type": "code",
   "execution_count": null,
   "metadata": {
    "colab": {
     "autoexec": {
      "startup": false,
      "wait_interval": 0
     }
    },
    "colab_type": "code",
    "id": "6jcc9uhldoUe"
   },
   "outputs": [],
   "source": [
    "train_mels = np.stack(train_mels)\n",
    "val_mels = np.stack(val_mels)\n",
    "test_mels = np.stack(test_mels)"
   ]
  },
  {
   "cell_type": "code",
   "execution_count": null,
   "metadata": {
    "colab": {
     "autoexec": {
      "startup": false,
      "wait_interval": 0
     }
    },
    "colab_type": "code",
    "id": "CId70awYdoUg"
   },
   "outputs": [],
   "source": [
    "np.save(\"train.npy\", train_mels)\n",
    "np.save(\"val.npy\", val_mels)\n",
    "np.save(\"test.npy\", test_mels)"
   ]
  },
  {
   "cell_type": "code",
   "execution_count": 0,
   "metadata": {
    "colab": {
     "autoexec": {
      "startup": false,
      "wait_interval": 0
     }
    },
    "colab_type": "code",
    "id": "kSrRlbrOdoUi"
   },
   "outputs": [],
   "source": []
  }
 ],
 "metadata": {
  "colab": {
   "default_view": {},
   "name": "preprocess.ipynb",
   "provenance": [],
   "version": "0.3.2",
   "views": {}
  },
  "kernelspec": {
   "display_name": "Python 3",
   "language": "python",
   "name": "python3"
  },
  "language_info": {
   "codemirror_mode": {
    "name": "ipython",
    "version": 3
   },
   "file_extension": ".py",
   "mimetype": "text/x-python",
   "name": "python",
   "nbconvert_exporter": "python",
   "pygments_lexer": "ipython3",
   "version": "3.6.4"
  }
 },
 "nbformat": 4,
 "nbformat_minor": 1
}
