{
 "cells": [
  {
   "cell_type": "code",
   "execution_count": 1,
   "metadata": {
    "colab": {
     "autoexec": {
      "startup": false,
      "wait_interval": 0
     },
     "base_uri": "https://localhost:8080/",
     "height": 1318
    },
    "colab_type": "code",
    "executionInfo": {
     "elapsed": 26252,
     "status": "ok",
     "timestamp": 1531495634854,
     "user": {
      "displayName": "Александр Мамаев",
      "photoUrl": "//lh5.googleusercontent.com/-p5lRdcZ8PCM/AAAAAAAAAAI/AAAAAAAALD8/m_dzDa69z-E/s50-c-k-no/photo.jpg",
      "userId": "104021652743759616096"
     },
     "user_tz": -180
    },
    "id": "LYqkyHBB7NIC",
    "outputId": "d4cb7186-7624-4023-fdfb-97898b7d3f3e"
   },
   "outputs": [
    {
     "name": "stdout",
     "output_type": "stream",
     "text": [
      "Requirement already satisfied: torch in /usr/local/lib/python3.6/dist-packages (0.4.0)\n",
      "\u001b[31mtensorflow 1.9.0rc2 has requirement setuptools<=39.1.0, but you'll have setuptools 40.0.0 which is incompatible.\u001b[0m\n",
      "Reading package lists... Done\n",
      "Building dependency tree       \n",
      "Reading state information... Done\n",
      "libsox-dev is already the newest version (14.4.1-5build1).\n",
      "libsox-fmt-all is already the newest version (14.4.1-5build1).\n",
      "sox is already the newest version (14.4.1-5build1).\n",
      "0 upgraded, 0 newly installed, 0 to remove and 10 not upgraded.\n",
      "Requirement already up-to-date: setuptools in /usr/local/lib/python3.6/dist-packages (40.0.0)\n",
      "\u001b[31mtensorflow 1.9.0rc2 has requirement setuptools<=39.1.0, but you'll have setuptools 40.0.0 which is incompatible.\u001b[0m\n",
      "Requirement already satisfied: librosa in /usr/local/lib/python3.6/dist-packages (0.6.1)\n",
      "Requirement already satisfied: scikit-learn!=0.19.0,>=0.14.0 in /usr/local/lib/python3.6/dist-packages (from librosa) (0.19.1)\n",
      "Requirement already satisfied: resampy>=0.2.0 in /usr/local/lib/python3.6/dist-packages (from librosa) (0.2.1)\n",
      "Requirement already satisfied: six>=1.3 in /usr/local/lib/python3.6/dist-packages (from librosa) (1.11.0)\n",
      "Requirement already satisfied: numba>=0.38.0 in /usr/local/lib/python3.6/dist-packages (from librosa) (0.39.0)\n",
      "Requirement already satisfied: decorator>=3.0.0 in /usr/local/lib/python3.6/dist-packages (from librosa) (4.3.0)\n",
      "Requirement already satisfied: numpy>=1.8.0 in /usr/local/lib/python3.6/dist-packages (from librosa) (1.14.5)\n",
      "Requirement already satisfied: joblib>=0.7.0 in /usr/local/lib/python3.6/dist-packages (from librosa) (0.12.0)\n",
      "Requirement already satisfied: scipy>=0.14.0 in /usr/local/lib/python3.6/dist-packages (from librosa) (0.19.1)\n",
      "Requirement already satisfied: audioread>=2.0.0 in /usr/local/lib/python3.6/dist-packages (from librosa) (2.1.6)\n",
      "Requirement already satisfied: llvmlite>=0.24.0dev0 in /usr/local/lib/python3.6/dist-packages (from numba>=0.38.0->librosa) (0.24.0)\n",
      "\u001b[31mtensorflow 1.9.0rc2 has requirement setuptools<=39.1.0, but you'll have setuptools 40.0.0 which is incompatible.\u001b[0m\n",
      "Collecting git+git://github.com/pytorch/audio\n",
      "  Cloning git://github.com/pytorch/audio to /tmp/pip-req-build-zx6hs0hh\n",
      "Requirement already satisfied (use --upgrade to upgrade): torchaudio==0.1 from git+git://github.com/pytorch/audio in /usr/local/lib/python3.6/dist-packages\n",
      "Building wheels for collected packages: torchaudio\n",
      "  Running setup.py bdist_wheel for torchaudio ... \u001b[?25l-\b \b\\\b \b|\b \b/\b \bdone\n",
      "\u001b[?25h  Stored in directory: /tmp/pip-ephem-wheel-cache-92jbre4j/wheels/4e/7c/c5/0d946acbaccad9fe62590374454c4cf135846c9c96fce3ac75\n",
      "Successfully built torchaudio\n",
      "\u001b[31mtensorflow 1.9.0rc2 has requirement setuptools<=39.1.0, but you'll have setuptools 40.0.0 which is incompatible.\u001b[0m\n",
      "Requirement already satisfied: livelossplot in /usr/local/lib/python3.6/dist-packages (0.2.0)\n",
      "Requirement already satisfied: matplotlib in /usr/local/lib/python3.6/dist-packages (from livelossplot) (2.1.2)\n",
      "Requirement already satisfied: notebook in /usr/local/lib/python3.6/dist-packages (from livelossplot) (5.2.2)\n",
      "Requirement already satisfied: pytz in /usr/local/lib/python3.6/dist-packages (from matplotlib->livelossplot) (2018.5)\n",
      "Requirement already satisfied: python-dateutil>=2.1 in /usr/local/lib/python3.6/dist-packages (from matplotlib->livelossplot) (2.5.3)\n",
      "Requirement already satisfied: cycler>=0.10 in /usr/local/lib/python3.6/dist-packages (from matplotlib->livelossplot) (0.10.0)\n",
      "Requirement already satisfied: numpy>=1.7.1 in /usr/local/lib/python3.6/dist-packages (from matplotlib->livelossplot) (1.14.5)\n",
      "Requirement already satisfied: six>=1.10 in /usr/local/lib/python3.6/dist-packages (from matplotlib->livelossplot) (1.11.0)\n",
      "Requirement already satisfied: pyparsing!=2.0.4,!=2.1.2,!=2.1.6,>=2.0.1 in /usr/local/lib/python3.6/dist-packages (from matplotlib->livelossplot) (2.2.0)\n",
      "Requirement already satisfied: jupyter-core in /usr/local/lib/python3.6/dist-packages (from notebook->livelossplot) (4.4.0)\n",
      "Requirement already satisfied: jinja2 in /usr/local/lib/python3.6/dist-packages (from notebook->livelossplot) (2.10)\n",
      "Requirement already satisfied: traitlets>=4.2.1 in /usr/local/lib/python3.6/dist-packages (from notebook->livelossplot) (4.3.2)\n",
      "Requirement already satisfied: nbformat in /usr/local/lib/python3.6/dist-packages (from notebook->livelossplot) (4.4.0)\n",
      "Requirement already satisfied: ipython-genutils in /usr/local/lib/python3.6/dist-packages (from notebook->livelossplot) (0.2.0)\n",
      "Requirement already satisfied: nbconvert in /usr/local/lib/python3.6/dist-packages (from notebook->livelossplot) (5.3.1)\n",
      "Requirement already satisfied: terminado>=0.3.3; sys_platform != \"win32\" in /usr/local/lib/python3.6/dist-packages (from notebook->livelossplot) (0.8.1)\n",
      "Requirement already satisfied: jupyter-client in /usr/local/lib/python3.6/dist-packages (from notebook->livelossplot) (5.2.3)\n",
      "Requirement already satisfied: ipykernel in /usr/local/lib/python3.6/dist-packages (from notebook->livelossplot) (4.6.1)\n",
      "Requirement already satisfied: tornado>=4 in /usr/local/lib/python3.6/dist-packages (from notebook->livelossplot) (4.5.3)\n",
      "Requirement already satisfied: MarkupSafe>=0.23 in /usr/local/lib/python3.6/dist-packages (from jinja2->notebook->livelossplot) (1.0)\n",
      "Requirement already satisfied: decorator in /usr/local/lib/python3.6/dist-packages (from traitlets>=4.2.1->notebook->livelossplot) (4.3.0)\n",
      "Requirement already satisfied: jsonschema!=2.5.0,>=2.4 in /usr/local/lib/python3.6/dist-packages (from nbformat->notebook->livelossplot) (2.6.0)\n",
      "Requirement already satisfied: bleach in /usr/local/lib/python3.6/dist-packages (from nbconvert->notebook->livelossplot) (2.1.3)\n",
      "Requirement already satisfied: pandocfilters>=1.4.1 in /usr/local/lib/python3.6/dist-packages (from nbconvert->notebook->livelossplot) (1.4.2)\n",
      "Requirement already satisfied: pygments in /usr/local/lib/python3.6/dist-packages (from nbconvert->notebook->livelossplot) (2.1.3)\n",
      "Requirement already satisfied: entrypoints>=0.2.2 in /usr/local/lib/python3.6/dist-packages (from nbconvert->notebook->livelossplot) (0.2.3)\n",
      "Requirement already satisfied: mistune>=0.7.4 in /usr/local/lib/python3.6/dist-packages (from nbconvert->notebook->livelossplot) (0.8.3)\n",
      "Requirement already satisfied: testpath in /usr/local/lib/python3.6/dist-packages (from nbconvert->notebook->livelossplot) (0.3.1)\n",
      "Requirement already satisfied: ptyprocess; os_name != \"nt\" in /usr/local/lib/python3.6/dist-packages (from terminado>=0.3.3; sys_platform != \"win32\"->notebook->livelossplot) (0.6.0)\n",
      "Requirement already satisfied: pyzmq>=13 in /usr/local/lib/python3.6/dist-packages (from jupyter-client->notebook->livelossplot) (16.0.4)\n",
      "Requirement already satisfied: ipython>=4.0.0 in /usr/local/lib/python3.6/dist-packages (from ipykernel->notebook->livelossplot) (5.5.0)\n",
      "Requirement already satisfied: html5lib!=1.0b1,!=1.0b2,!=1.0b3,!=1.0b4,!=1.0b5,!=1.0b6,!=1.0b7,!=1.0b8,>=0.99999999pre in /usr/local/lib/python3.6/dist-packages (from bleach->nbconvert->notebook->livelossplot) (1.0.1)\n",
      "Requirement already satisfied: prompt-toolkit<2.0.0,>=1.0.4 in /usr/local/lib/python3.6/dist-packages (from ipython>=4.0.0->ipykernel->notebook->livelossplot) (1.0.15)\n",
      "Requirement already satisfied: setuptools>=18.5 in /usr/local/lib/python3.6/dist-packages (from ipython>=4.0.0->ipykernel->notebook->livelossplot) (40.0.0)\n",
      "Requirement already satisfied: pexpect; sys_platform != \"win32\" in /usr/local/lib/python3.6/dist-packages (from ipython>=4.0.0->ipykernel->notebook->livelossplot) (4.6.0)\n",
      "Requirement already satisfied: simplegeneric>0.8 in /usr/local/lib/python3.6/dist-packages (from ipython>=4.0.0->ipykernel->notebook->livelossplot) (0.8.1)\n",
      "Requirement already satisfied: pickleshare in /usr/local/lib/python3.6/dist-packages (from ipython>=4.0.0->ipykernel->notebook->livelossplot) (0.7.4)\n",
      "Requirement already satisfied: webencodings in /usr/local/lib/python3.6/dist-packages (from html5lib!=1.0b1,!=1.0b2,!=1.0b3,!=1.0b4,!=1.0b5,!=1.0b6,!=1.0b7,!=1.0b8,>=0.99999999pre->bleach->nbconvert->notebook->livelossplot) (0.5.1)\n",
      "Requirement already satisfied: wcwidth in /usr/local/lib/python3.6/dist-packages (from prompt-toolkit<2.0.0,>=1.0.4->ipython>=4.0.0->ipykernel->notebook->livelossplot) (0.1.7)\n",
      "\u001b[31mtensorflow 1.9.0rc2 has requirement setuptools<=39.1.0, but you'll have setuptools 40.0.0 which is incompatible.\u001b[0m\n",
      "Requirement already satisfied: tqdm in /usr/local/lib/python3.6/dist-packages (4.23.4)\n",
      "\u001b[31mtensorflow 1.9.0rc2 has requirement setuptools<=39.1.0, but you'll have setuptools 40.0.0 which is incompatible.\u001b[0m\n"
     ]
    }
   ],
   "source": [
    "!pip install torch\n",
    "!apt-get install sox libsox-dev libsox-fmt-all\n",
    "!pip install setuptools --upgrade\n",
    "!pip install librosa\n",
    "!pip install git+git://github.com/pytorch/audio\n",
    "!pip install livelossplot\n",
    "!pip install tqdm"
   ]
  },
  {
   "cell_type": "code",
   "execution_count": 2,
   "metadata": {
    "colab": {
     "autoexec": {
      "startup": false,
      "wait_interval": 0
     },
     "base_uri": "https://localhost:8080/",
     "height": 34
    },
    "colab_type": "code",
    "executionInfo": {
     "elapsed": 1636,
     "status": "ok",
     "timestamp": 1531495655697,
     "user": {
      "displayName": "Александр Мамаев",
      "photoUrl": "//lh5.googleusercontent.com/-p5lRdcZ8PCM/AAAAAAAAAAI/AAAAAAAALD8/m_dzDa69z-E/s50-c-k-no/photo.jpg",
      "userId": "104021652743759616096"
     },
     "user_tz": -180
    },
    "id": "Vhufpxu6hAt7",
    "outputId": "3983c54f-d322-4e71-e20d-8441e5c632c1"
   },
   "outputs": [
    {
     "name": "stdout",
     "output_type": "stream",
     "text": [
      "ls: cannot access 'drive': No such file or directory\r\n"
     ]
    }
   ],
   "source": [
    "# !ls drive"
   ]
  },
  {
   "cell_type": "code",
   "execution_count": 3,
   "metadata": {
    "colab": {
     "autoexec": {
      "startup": false,
      "wait_interval": 0
     },
     "base_uri": "https://localhost:8080/",
     "height": 237
    },
    "colab_type": "code",
    "executionInfo": {
     "elapsed": 15996,
     "status": "ok",
     "timestamp": 1531496197789,
     "user": {
      "displayName": "Александр Мамаев",
      "photoUrl": "//lh5.googleusercontent.com/-p5lRdcZ8PCM/AAAAAAAAAAI/AAAAAAAALD8/m_dzDa69z-E/s50-c-k-no/photo.jpg",
      "userId": "104021652743759616096"
     },
     "user_tz": -180
    },
    "id": "CGXw50YY7Oi9",
    "outputId": "31d09300-3232-405f-ec4a-5904dabc3e28"
   },
   "outputs": [
    {
     "name": "stdout",
     "output_type": "stream",
     "text": [
      "Please, open the following URL in a web browser: https://accounts.google.com/o/oauth2/auth?client_id=32555940559.apps.googleusercontent.com&redirect_uri=urn%3Aietf%3Awg%3Aoauth%3A2.0%3Aoob&scope=https%3A%2F%2Fwww.googleapis.com%2Fauth%2Fdrive&response_type=code&access_type=offline&approval_prompt=force\r\n",
      "··········\n",
      "Please, open the following URL in a web browser: https://accounts.google.com/o/oauth2/auth?client_id=32555940559.apps.googleusercontent.com&redirect_uri=urn%3Aietf%3Awg%3Aoauth%3A2.0%3Aoob&scope=https%3A%2F%2Fwww.googleapis.com%2Fauth%2Fdrive&response_type=code&access_type=offline&approval_prompt=force\n",
      "Please enter the verification code: Access token retrieved correctly.\n"
     ]
    }
   ],
   "source": [
    "# !apt-get install -y -qq software-properties-common python-software-properties module-init-tools\n",
    "# !add-apt-repository -y ppa:alessandro-strada/ppa 2>&1 > /dev/null\n",
    "# !apt-get update -qq 2>&1 > /dev/null\n",
    "# !apt-get -y install -qq google-drive-ocamlfuse fuse\n",
    "\n",
    "# from google.colab import auth\n",
    "# auth.authenticate_user()\n",
    "# from oauth2client.client import GoogleCredentials\n",
    "# creds = GoogleCredentials.get_application_default()\n",
    "# import getpass\n",
    "\n",
    "# !google-drive-ocamlfuse -headless -id={creds.client_id} -secret={creds.client_secret} < /dev/null 2>&1 | grep URL\n",
    "# vcode = getpass.getpass()\n",
    "# !echo {vcode} | google-drive-ocamlfuse -headless -id={creds.client_id} -secret={creds.client_secret}"
   ]
  },
  {
   "cell_type": "code",
   "execution_count": 0,
   "metadata": {
    "colab": {
     "autoexec": {
      "startup": false,
      "wait_interval": 0
     }
    },
    "colab_type": "code",
    "id": "f-q6m-KW7SYj"
   },
   "outputs": [],
   "source": [
    "# !mkdir -p drive\n",
    "# !google-drive-ocamlfuse drive"
   ]
  },
  {
   "cell_type": "code",
   "execution_count": 5,
   "metadata": {
    "colab": {
     "autoexec": {
      "startup": false,
      "wait_interval": 0
     },
     "base_uri": "https://localhost:8080/",
     "height": 34
    },
    "colab_type": "code",
    "executionInfo": {
     "elapsed": 10017,
     "status": "ok",
     "timestamp": 1531496229513,
     "user": {
      "displayName": "Александр Мамаев",
      "photoUrl": "//lh5.googleusercontent.com/-p5lRdcZ8PCM/AAAAAAAAAAI/AAAAAAAALD8/m_dzDa69z-E/s50-c-k-no/photo.jpg",
      "userId": "104021652743759616096"
     },
     "user_tz": -180
    },
    "id": "fmUeIPSb68Zm",
    "outputId": "ea9f999e-5355-4de0-a0c9-65d164593a91"
   },
   "outputs": [
    {
     "name": "stderr",
     "output_type": "stream",
     "text": [
      "Using TensorFlow backend.\n"
     ]
    }
   ],
   "source": [
    "import torch\n",
    "import numpy as np\n",
    "from torch import nn\n",
    "import torchaudio\n",
    "import os\n",
    "from matplotlib import pyplot as plt\n",
    "import pandas as pd\n",
    "from torch.utils.data import DataLoader, Dataset\n",
    "from sklearn.preprocessing import LabelEncoder\n",
    "from livelossplot import PlotLosses\n",
    "from tqdm import tqdm, tqdm_notebook\n",
    "\n",
    "%matplotlib inline"
   ]
  },
  {
   "cell_type": "code",
   "execution_count": 0,
   "metadata": {
    "colab": {
     "autoexec": {
      "startup": false,
      "wait_interval": 0
     }
    },
    "colab_type": "code",
    "id": "LHaZ3kLoNXVN"
   },
   "outputs": [],
   "source": [
    "WORKDIR_PATH = \"./\""
   ]
  },
  {
   "cell_type": "code",
   "execution_count": 0,
   "metadata": {
    "colab": {
     "autoexec": {
      "startup": false,
      "wait_interval": 0
     }
    },
    "colab_type": "code",
    "id": "EK7LaBTf68Zt"
   },
   "outputs": [],
   "source": [
    "le = LabelEncoder().fit(['background', 'bags', 'door', 'keyboard', 'knocking_door', 'ring', 'speech', 'tool'])"
   ]
  },
  {
   "cell_type": "code",
   "execution_count": 0,
   "metadata": {
    "colab": {
     "autoexec": {
      "startup": false,
      "wait_interval": 0
     }
    },
    "colab_type": "code",
    "id": "oH_WYlDS68Zy"
   },
   "outputs": [],
   "source": [
    "class AudioDataset(Dataset):\n",
    "    def __init__(self, csv_file_path, npy_file_path, y_le=None):\n",
    "        csv_file = pd.read_csv(csv_file_path)\n",
    "\n",
    "        self.le = y_le\n",
    "        self.target = csv_file[\"target\"].get_values()\n",
    "        \n",
    "        if y_le is None:\n",
    "            self.encoded_target = self.target\n",
    "        else:\n",
    "            self.encoded_target = le.transform(self.target)\n",
    "        self.mels = np.load(npy_file_path)\n",
    "        \n",
    "    def __len__(self):\n",
    "        return len(self.mels)\n",
    "    \n",
    "    def __getitem__(self, idx):\n",
    "        mel = self.mels[idx]\n",
    "        mel = mel/mel.sum()\n",
    "        encoded_label = self.encoded_target[idx]\n",
    "        \n",
    "        if self.le is not None:\n",
    "            return {\"mel\": mel, \"target\": encoded_label}\n",
    "        else:\n",
    "            return {\"mel\": mel}"
   ]
  },
  {
   "cell_type": "code",
   "execution_count": 0,
   "metadata": {
    "colab": {
     "autoexec": {
      "startup": false,
      "wait_interval": 0
     }
    },
    "colab_type": "code",
    "id": "Jb5of5-N68Z2"
   },
   "outputs": [],
   "source": [
    "train_dataset = AudioDataset(WORKDIR_PATH+\"/train.csv\", WORKDIR_PATH+\"/train.npy\", le)\n",
    "val_dataset = AudioDataset(WORKDIR_PATH+\"/val.csv\", WORKDIR_PATH+\"/val.npy\", le)\n",
    "\n",
    "train_dataloader = DataLoader(train_dataset, batch_size=32, shuffle=True, num_workers=4)\n",
    "val_dataloader = DataLoader(val_dataset, batch_size=32, shuffle=True, num_workers=4)"
   ]
  },
  {
   "cell_type": "code",
   "execution_count": 10,
   "metadata": {
    "colab": {
     "autoexec": {
      "startup": false,
      "wait_interval": 0
     },
     "base_uri": "https://localhost:8080/",
     "height": 34
    },
    "colab_type": "code",
    "executionInfo": {
     "elapsed": 711,
     "status": "ok",
     "timestamp": 1531496286465,
     "user": {
      "displayName": "Александр Мамаев",
      "photoUrl": "//lh5.googleusercontent.com/-p5lRdcZ8PCM/AAAAAAAAAAI/AAAAAAAALD8/m_dzDa69z-E/s50-c-k-no/photo.jpg",
      "userId": "104021652743759616096"
     },
     "user_tz": -180
    },
    "id": "5uYSl1wxnI1V",
    "outputId": "6dd1d623-eaf0-4205-a7a5-125b40658909"
   },
   "outputs": [
    {
     "data": {
      "text/plain": [
       "(1, 128, 186)"
      ]
     },
     "execution_count": 10,
     "metadata": {
      "tags": []
     },
     "output_type": "execute_result"
    }
   ],
   "source": [
    "train_dataset[123][\"mel\"].shape"
   ]
  },
  {
   "cell_type": "code",
   "execution_count": 11,
   "metadata": {
    "colab": {
     "autoexec": {
      "startup": false,
      "wait_interval": 0
     },
     "base_uri": "https://localhost:8080/",
     "height": 285
    },
    "colab_type": "code",
    "executionInfo": {
     "elapsed": 772,
     "status": "ok",
     "timestamp": 1531496287881,
     "user": {
      "displayName": "Александр Мамаев",
      "photoUrl": "//lh5.googleusercontent.com/-p5lRdcZ8PCM/AAAAAAAAAAI/AAAAAAAALD8/m_dzDa69z-E/s50-c-k-no/photo.jpg",
      "userId": "104021652743759616096"
     },
     "user_tz": -180
    },
    "id": "RJJzYRA668Z5",
    "outputId": "e70513bd-a316-47a3-a27c-1f6a20e39f7f"
   },
   "outputs": [
    {
     "data": {
      "text/plain": [
       "<matplotlib.image.AxesImage at 0x7f61de10dc50>"
      ]
     },
     "execution_count": 11,
     "metadata": {
      "tags": []
     },
     "output_type": "execute_result"
    },
    {
     "data": {
      "image/png": "[encoded data removed]",
      "text/plain": [
       "<matplotlib.figure.Figure at 0x7f61de141b38>"
      ]
     },
     "metadata": {
      "tags": []
     },
     "output_type": "display_data"
    }
   ],
   "source": [
    "plt.imshow(train_dataset[123][\"mel\"][0])"
   ]
  },
  {
   "cell_type": "code",
   "execution_count": 0,
   "metadata": {
    "colab": {
     "autoexec": {
      "startup": false,
      "wait_interval": 0
     }
    },
    "colab_type": "code",
    "id": "B2LqjA_a68aB"
   },
   "outputs": [],
   "source": [
    "class ConvNet(nn.Module):\n",
    "    def __init__(self, num_classes=10, p=0.5):\n",
    "        super(ConvNet, self).__init__()\n",
    "        self.layer1 = nn.Sequential(\n",
    "            nn.Dropout(p=0.25),\n",
    "            nn.Conv2d(1, 16, kernel_size=5, stride=1, padding=2),\n",
    "            nn.BatchNorm2d(16),\n",
    "            nn.ReLU(),\n",
    "            nn.MaxPool2d(kernel_size=4, stride=4),\n",
    "#             nn.Dropout(p=0.01),\n",
    "        )\n",
    "        self.layer2 = nn.Sequential(\n",
    "            nn.Conv2d(16, 32, kernel_size=5, stride=1, padding=2),\n",
    "            nn.BatchNorm2d(32),\n",
    "            nn.ReLU(),\n",
    "            nn.MaxPool2d(kernel_size=4, stride=4))\n",
    "        self.fc = nn.Linear(8*11*32, num_classes)\n",
    "        \n",
    "    def forward(self, x):\n",
    "        out = self.layer1(x)\n",
    "        out = self.layer2(out)\n",
    "        out = out.reshape(out.size(0), -1)\n",
    "        out = self.fc(out)\n",
    "        return out"
   ]
  },
  {
   "cell_type": "code",
   "execution_count": 160,
   "metadata": {
    "colab": {
     "autoexec": {
      "startup": false,
      "wait_interval": 0
     },
     "base_uri": "https://localhost:8080/",
     "height": 34
    },
    "colab_type": "code",
    "executionInfo": {
     "elapsed": 1386,
     "status": "ok",
     "timestamp": 1531498659500,
     "user": {
      "displayName": "Александр Мамаев",
      "photoUrl": "//lh5.googleusercontent.com/-p5lRdcZ8PCM/AAAAAAAAAAI/AAAAAAAALD8/m_dzDa69z-E/s50-c-k-no/photo.jpg",
      "userId": "104021652743759616096"
     },
     "user_tz": -180
    },
    "id": "-clhHiZE68aH",
    "outputId": "fd1ae382-2d56-452b-d248-183bfdb431da"
   },
   "outputs": [
    {
     "name": "stdout",
     "output_type": "stream",
     "text": [
      "Device: cuda:0\n"
     ]
    }
   ],
   "source": [
    "device = torch.device('cuda:0' if torch.cuda.is_available() else 'cpu')\n",
    "print(\"Device:\", device)"
   ]
  },
  {
   "cell_type": "code",
   "execution_count": 0,
   "metadata": {
    "colab": {
     "autoexec": {
      "startup": false,
      "wait_interval": 0
     }
    },
    "colab_type": "code",
    "id": "b1_rLOat68aM"
   },
   "outputs": [],
   "source": [
    "model = ConvNet(num_classes=len(le.classes_), p=0.06).to(device)"
   ]
  },
  {
   "cell_type": "code",
   "execution_count": 0,
   "metadata": {
    "colab": {
     "autoexec": {
      "startup": false,
      "wait_interval": 0
     }
    },
    "colab_type": "code",
    "id": "MUTNJsjA68aP"
   },
   "outputs": [],
   "source": [
    "num_epochs = 12\n",
    "learning_rate = 0.001\n",
    "\n",
    "criterion = nn.CrossEntropyLoss()\n",
    "optimizer = torch.optim.Adam(model.parameters(), lr=learning_rate)"
   ]
  },
  {
   "cell_type": "code",
   "execution_count": 0,
   "metadata": {
    "colab": {
     "autoexec": {
      "startup": false,
      "wait_interval": 0
     }
    },
    "colab_type": "code",
    "id": "nOk6DusRQB0R"
   },
   "outputs": [],
   "source": [
    "liveloss = PlotLosses()"
   ]
  },
  {
   "cell_type": "code",
   "execution_count": 164,
   "metadata": {
    "colab": {
     "autoexec": {
      "startup": false,
      "wait_interval": 0
     },
     "base_uri": "https://localhost:8080/",
     "height": 366
    },
    "colab_type": "code",
    "executionInfo": {
     "elapsed": 414,
     "status": "ok",
     "timestamp": 1531498776924,
     "user": {
      "displayName": "Александр Мамаев",
      "photoUrl": "//lh5.googleusercontent.com/-p5lRdcZ8PCM/AAAAAAAAAAI/AAAAAAAALD8/m_dzDa69z-E/s50-c-k-no/photo.jpg",
      "userId": "104021652743759616096"
     },
     "user_tz": -180
    },
    "id": "Am7L_hsP68aS",
    "outputId": "94ad9b0f-094b-4eba-eb69-ae8c95086189"
   },
   "outputs": [
    {
     "data": {
      "image/png": "[encoded data removed]",
      "text/plain": [
       "<matplotlib.figure.Figure at 0x7f618c685198>"
      ]
     },
     "metadata": {
      "tags": []
     },
     "output_type": "display_data"
    }
   ],
   "source": [
    "total_step = len(train_dataloader)\n",
    "for epoch in range(num_epochs):\n",
    "    epoch_losses = []\n",
    "    epoch_accuracy = []\n",
    "    \n",
    "    for batch in train_dataloader:\n",
    "        mels = batch[\"mel\"].to(device)\n",
    "        labels = batch[\"target\"].to(device)\n",
    "        \n",
    "        outputs = model(mels)\n",
    "        loss = criterion(outputs, labels)\n",
    "\n",
    "        optimizer.zero_grad()\n",
    "        loss.backward()\n",
    "        optimizer.step()\n",
    "        \n",
    "        epoch_losses.append(loss.item())\n",
    "        epoch_accuracy.append(float((torch.argmax(outputs, 1) == labels).sum())/32)\n",
    "#         print(\"Epoch: %s;Batch: %s;Loss: %s\" % (epoch, i, loss.item()))\n",
    "    \n",
    "    accuracy_val = []\n",
    "    for batch in val_dataloader:\n",
    "        mels = batch[\"mel\"].to(device)\n",
    "        labels = batch[\"target\"].data.numpy()\n",
    "\n",
    "        out = model(mels)\n",
    "        pred = torch.argmax(out, 1).cpu().data.numpy()\n",
    "        accuracy_val.append(accuracy_score(pred, labels))\n",
    "    \n",
    "    liveloss.update({\n",
    "        'log loss': np.mean(epoch_losses),\n",
    "        'accuracy': np.mean(epoch_accuracy),\n",
    "        'val_accuracy': np.mean(accuracy_val)\n",
    "    })\n",
    "    liveloss.draw()"
   ]
  },
  {
   "cell_type": "code",
   "execution_count": 0,
   "metadata": {
    "colab": {
     "autoexec": {
      "startup": false,
      "wait_interval": 0
     }
    },
    "colab_type": "code",
    "id": "nI5aRgfzO2TF"
   },
   "outputs": [],
   "source": [
    "from sklearn.metrics import accuracy_score"
   ]
  },
  {
   "cell_type": "code",
   "execution_count": 168,
   "metadata": {
    "colab": {
     "autoexec": {
      "startup": false,
      "wait_interval": 0
     },
     "base_uri": "https://localhost:8080/",
     "height": 34
    },
    "colab_type": "code",
    "executionInfo": {
     "elapsed": 2514,
     "status": "ok",
     "timestamp": 1531498834024,
     "user": {
      "displayName": "Александр Мамаев",
      "photoUrl": "//lh5.googleusercontent.com/-p5lRdcZ8PCM/AAAAAAAAAAI/AAAAAAAALD8/m_dzDa69z-E/s50-c-k-no/photo.jpg",
      "userId": "104021652743759616096"
     },
     "user_tz": -180
    },
    "id": "EMtdLga3aEfy",
    "outputId": "dad3fbda-6784-467e-9472-9b1f08147965"
   },
   "outputs": [
    {
     "name": "stdout",
     "output_type": "stream",
     "text": [
      "Test accuracy: 0.9604166666666667\n"
     ]
    }
   ],
   "source": [
    "accuracy_val = []\n",
    "for batch in val_dataloader:\n",
    "    mels = batch[\"mel\"].to(device)\n",
    "    labels = batch[\"target\"].data.numpy()\n",
    "    \n",
    "    out = model(mels)\n",
    "    pred = torch.argmax(out, 1).cpu().data.numpy()\n",
    "    accuracy_val.append(accuracy_score(pred, labels))\n",
    "\n",
    "print(\"Test accuracy:\", np.mean(accuracy_val))"
   ]
  },
  {
   "cell_type": "code",
   "execution_count": 0,
   "metadata": {
    "colab": {
     "autoexec": {
      "startup": false,
      "wait_interval": 0
     }
    },
    "colab_type": "code",
    "id": "4yj7kyfEZpuW"
   },
   "outputs": [],
   "source": [
    "test_dataset = AudioDataset(WORKDIR_PATH+\"/test.csv\", WORKDIR_PATH+\"/test.npy\")\n",
    "test_dataloader = DataLoader(test_dataset, batch_size=32)"
   ]
  },
  {
   "cell_type": "code",
   "execution_count": 170,
   "metadata": {
    "colab": {
     "autoexec": {
      "startup": false,
      "wait_interval": 0
     },
     "base_uri": "https://localhost:8080/",
     "height": 268
    },
    "colab_type": "code",
    "executionInfo": {
     "elapsed": 1010,
     "status": "ok",
     "timestamp": 1531498841202,
     "user": {
      "displayName": "Александр Мамаев",
      "photoUrl": "//lh5.googleusercontent.com/-p5lRdcZ8PCM/AAAAAAAAAAI/AAAAAAAALD8/m_dzDa69z-E/s50-c-k-no/photo.jpg",
      "userId": "104021652743759616096"
     },
     "user_tz": -180
    },
    "id": "lzYWTWyOmsQd",
    "outputId": "732c3d44-c19d-4861-bc49-4ea83b292570"
   },
   "outputs": [
    {
     "data": {
      "image/png": "[encoded data removed]",
      "text/plain": [
       "<matplotlib.figure.Figure at 0x7f618ba8c128>"
      ]
     },
     "metadata": {
      "tags": []
     },
     "output_type": "display_data"
    }
   ],
   "source": [
    "test_csv = pd.read_csv(WORKDIR_PATH+\"/test.csv\", index_col=0)\n",
    "test_csv.head()\n",
    "\n",
    "plt.imshow(test_dataset[5][\"mel\"][0])\n",
    "plt.show()"
   ]
  },
  {
   "cell_type": "code",
   "execution_count": 0,
   "metadata": {
    "colab": {
     "autoexec": {
      "startup": false,
      "wait_interval": 0
     }
    },
    "colab_type": "code",
    "id": "NCX9Prevmg6S"
   },
   "outputs": [],
   "source": [
    "submit_proba = []\n",
    "submit_labels = []\n",
    "\n",
    "for batch in test_dataloader:\n",
    "    mel = batch[\"mel\"].to(device)\n",
    "    model_output = nn.Softmax(dim=1)(model.forward(mel))\n",
    "    proba, labels = model_output.max(dim=1)\n",
    "    proba = proba.cpu().data.numpy()\n",
    "    labels = labels.cpu().data.numpy()\n",
    "\n",
    "    submit_proba.append(proba)\n",
    "    submit_labels.append(labels)"
   ]
  },
  {
   "cell_type": "code",
   "execution_count": 0,
   "metadata": {
    "colab": {
     "autoexec": {
      "startup": false,
      "wait_interval": 0
     }
    },
    "colab_type": "code",
    "id": "qi3oD_EnnAGS"
   },
   "outputs": [],
   "source": [
    "submit_proba = np.concatenate(submit_proba)\n",
    "submit_labels = np.concatenate(submit_labels)"
   ]
  },
  {
   "cell_type": "code",
   "execution_count": 173,
   "metadata": {
    "colab": {
     "autoexec": {
      "startup": false,
      "wait_interval": 0
     },
     "base_uri": "https://localhost:8080/",
     "height": 204
    },
    "colab_type": "code",
    "executionInfo": {
     "elapsed": 857,
     "status": "ok",
     "timestamp": 1531498843766,
     "user": {
      "displayName": "Александр Мамаев",
      "photoUrl": "//lh5.googleusercontent.com/-p5lRdcZ8PCM/AAAAAAAAAAI/AAAAAAAALD8/m_dzDa69z-E/s50-c-k-no/photo.jpg",
      "userId": "104021652743759616096"
     },
     "user_tz": -180
    },
    "id": "XarZJtT-UAyl",
    "outputId": "181f3579-9fa2-4d4f-e4bc-16cf3d829bcc"
   },
   "outputs": [
    {
     "data": {
      "text/html": [
       "<div>\n",
       "<style scoped>\n",
       "    .dataframe tbody tr th:only-of-type {\n",
       "        vertical-align: middle;\n",
       "    }\n",
       "\n",
       "    .dataframe tbody tr th {\n",
       "        vertical-align: top;\n",
       "    }\n",
       "\n",
       "    .dataframe thead th {\n",
       "        text-align: right;\n",
       "    }\n",
       "</style>\n",
       "<table border=\"1\" class=\"dataframe\">\n",
       "  <thead>\n",
       "    <tr style=\"text-align: right;\">\n",
       "      <th></th>\n",
       "      <th>name</th>\n",
       "      <th>proba</th>\n",
       "      <th>target</th>\n",
       "    </tr>\n",
       "  </thead>\n",
       "  <tbody>\n",
       "    <tr>\n",
       "      <th>0</th>\n",
       "      <td>unknown_0063.wav</td>\n",
       "      <td>0.523156</td>\n",
       "      <td>0</td>\n",
       "    </tr>\n",
       "    <tr>\n",
       "      <th>1</th>\n",
       "      <td>unknown_0077.wav</td>\n",
       "      <td>0.554947</td>\n",
       "      <td>3</td>\n",
       "    </tr>\n",
       "    <tr>\n",
       "      <th>2</th>\n",
       "      <td>unknown_0088.wav</td>\n",
       "      <td>0.545167</td>\n",
       "      <td>0</td>\n",
       "    </tr>\n",
       "    <tr>\n",
       "      <th>3</th>\n",
       "      <td>keyboard_0035.wav</td>\n",
       "      <td>0.998244</td>\n",
       "      <td>3</td>\n",
       "    </tr>\n",
       "    <tr>\n",
       "      <th>4</th>\n",
       "      <td>knocking_door_t_0002.wav</td>\n",
       "      <td>0.995579</td>\n",
       "      <td>4</td>\n",
       "    </tr>\n",
       "  </tbody>\n",
       "</table>\n",
       "</div>"
      ],
      "text/plain": [
       "                       name     proba  target\n",
       "0          unknown_0063.wav  0.523156       0\n",
       "1          unknown_0077.wav  0.554947       3\n",
       "2          unknown_0088.wav  0.545167       0\n",
       "3         keyboard_0035.wav  0.998244       3\n",
       "4  knocking_door_t_0002.wav  0.995579       4"
      ]
     },
     "execution_count": 173,
     "metadata": {
      "tags": []
     },
     "output_type": "execute_result"
    }
   ],
   "source": [
    "test_csv[\"target\"] = submit_labels\n",
    "test_csv[\"proba\"] = submit_proba\n",
    "test_csv = test_csv[[\"name\", \"proba\", \"target\"]]\n",
    "test_csv.head()"
   ]
  },
  {
   "cell_type": "code",
   "execution_count": 0,
   "metadata": {
    "colab": {
     "autoexec": {
      "startup": false,
      "wait_interval": 0
     }
    },
    "colab_type": "code",
    "id": "aZT3Lf8lYinC"
   },
   "outputs": [],
   "source": [
    "test_csv.to_csv(WORKDIR_PATH+\"/my_result.txt\", index=False, header=False, sep=\"\\t\")"
   ]
  },
  {
   "cell_type": "code",
   "execution_count": 0,
   "metadata": {
    "colab": {
     "autoexec": {
      "startup": false,
      "wait_interval": 0
     }
    },
    "colab_type": "code",
    "id": "B0JHBiXGZYl-"
   },
   "outputs": [],
   "source": []
  }
 ],
 "metadata": {
  "accelerator": "GPU",
  "colab": {
   "collapsed_sections": [],
   "default_view": {},
   "name": "model.ipynb",
   "provenance": [],
   "version": "0.3.2",
   "views": {}
  },
  "kernelspec": {
   "display_name": "Python 3",
   "language": "python",
   "name": "python3"
  },
  "language_info": {
   "codemirror_mode": {
    "name": "ipython",
    "version": 3
   },
   "file_extension": ".py",
   "mimetype": "text/x-python",
   "name": "python",
   "nbconvert_exporter": "python",
   "pygments_lexer": "ipython3",
   "version": "3.6.4"
  }
 },
 "nbformat": 4,
 "nbformat_minor": 1
}
