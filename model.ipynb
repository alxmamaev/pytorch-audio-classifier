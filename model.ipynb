{
 "cells": [
  {
   "cell_type": "markdown",
   "metadata": {
    "colab_type": "text",
    "id": "4kgyGzljO8T-"
   },
   "source": [
    "## ML-Speech Pro school"
   ]
  },
  {
   "cell_type": "code",
   "execution_count": 0,
   "metadata": {
    "colab": {
     "autoexec": {
      "startup": false,
      "wait_interval": 0
     }
    },
    "colab_type": "code",
    "id": "LYqkyHBB7NIC"
   },
   "outputs": [],
   "source": [
    "!pip install torch\n",
    "!apt-get install sox libsox-dev libsox-fmt-all\n",
    "!pip install setuptools --upgrade\n",
    "!pip install librosa\n",
    "!pip install git+git://github.com/pytorch/audio\n",
    "!pip install livelossplot\n",
    "!pip install tqdm"
   ]
  },
  {
   "cell_type": "code",
   "execution_count": 0,
   "metadata": {
    "colab": {
     "autoexec": {
      "startup": false,
      "wait_interval": 0
     }
    },
    "colab_type": "code",
    "id": "CGXw50YY7Oi9"
   },
   "outputs": [],
   "source": [
    "# !apt-get install -y -qq software-properties-common python-software-properties module-init-tools\n",
    "# !add-apt-repository -y ppa:alessandro-strada/ppa 2>&1 > /dev/null\n",
    "# !apt-get update -qq 2>&1 > /dev/null\n",
    "# !apt-get -y install -qq google-drive-ocamlfuse fuse\n",
    "\n",
    "# from google.colab import auth\n",
    "# auth.authenticate_user()\n",
    "# from oauth2client.client import GoogleCredentials\n",
    "# creds = GoogleCredentials.get_application_default()\n",
    "# import getpass\n",
    "\n",
    "# !google-drive-ocamlfuse -headless -id={creds.client_id} -secret={creds.client_secret} < /dev/null 2>&1 | grep URL\n",
    "# vcode = getpass.getpass()\n",
    "# !echo {vcode} | google-drive-ocamlfuse -headless -id={creds.client_id} -secret={creds.client_secret}"
   ]
  },
  {
   "cell_type": "code",
   "execution_count": 0,
   "metadata": {
    "colab": {
     "autoexec": {
      "startup": false,
      "wait_interval": 0
     }
    },
    "colab_type": "code",
    "id": "f-q6m-KW7SYj"
   },
   "outputs": [],
   "source": [
    "# !mkdir -p drive\n",
    "# !google-drive-ocamlfuse drive\n",
    "# !ls drive"
   ]
  },
  {
   "cell_type": "code",
   "execution_count": 0,
   "metadata": {
    "colab": {
     "autoexec": {
      "startup": false,
      "wait_interval": 0
     }
    },
    "colab_type": "code",
    "id": "CebRp_8auOHr"
   },
   "outputs": [],
   "source": []
  },
  {
   "cell_type": "code",
   "execution_count": 6,
   "metadata": {
    "colab": {
     "autoexec": {
      "startup": false,
      "wait_interval": 0
     },
     "base_uri": "https://localhost:8080/",
     "height": 34
    },
    "colab_type": "code",
    "executionInfo": {
     "elapsed": 9532,
     "status": "ok",
     "timestamp": 1532373211713,
     "user": {
      "displayName": "Александр Мамаев",
      "photoUrl": "//lh5.googleusercontent.com/-p5lRdcZ8PCM/AAAAAAAAAAI/AAAAAAAALD8/m_dzDa69z-E/s50-c-k-no/photo.jpg",
      "userId": "104021652743759616096"
     },
     "user_tz": -240
    },
    "id": "fmUeIPSb68Zm",
    "outputId": "3c5d581d-4a86-4db2-b06c-e9b1f4544de3"
   },
   "outputs": [
    {
     "name": "stderr",
     "output_type": "stream",
     "text": [
      "Using TensorFlow backend.\n"
     ]
    }
   ],
   "source": [
    "import torch\n",
    "import numpy as np\n",
    "from torch import nn\n",
    "import torchaudio\n",
    "import os\n",
    "from matplotlib import pyplot as plt\n",
    "import pandas as pd\n",
    "from torch.utils.data import DataLoader, Dataset\n",
    "from sklearn.preprocessing import LabelEncoder\n",
    "from livelossplot import PlotLosses\n",
    "from tqdm import tqdm, tqdm_notebook\n",
    "from sklearn.metrics import accuracy_score\n",
    "\n",
    "%matplotlib inline"
   ]
  },
  {
   "cell_type": "code",
   "execution_count": 0,
   "metadata": {
    "colab": {
     "autoexec": {
      "startup": false,
      "wait_interval": 0
     }
    },
    "colab_type": "code",
    "id": "LHaZ3kLoNXVN"
   },
   "outputs": [],
   "source": [
    "WORKDIR_PATH = \"drive/DeepLearning\""
   ]
  },
  {
   "cell_type": "code",
   "execution_count": 0,
   "metadata": {
    "colab": {
     "autoexec": {
      "startup": false,
      "wait_interval": 0
     }
    },
    "colab_type": "code",
    "id": "EK7LaBTf68Zt"
   },
   "outputs": [],
   "source": [
    "le1 = LabelEncoder().fit(['background', 'bags', 'door', 'keyboard', 'knocking_door', 'ring', 'speech', 'tool'])\n",
    "le2 = LabelEncoder().fit(['scream', 'laughter', 'car', 'acoustic_guitar', 'airplane', 'ocean_surf', 'squeak', \n",
    "                         'whistle', 'bird', 'speech_fs', 'rustle', 'applause', 'church_bell', 'tone', 'hammer', \n",
    "                         'violin', 'fireworks', 'engine', 'child', 'footstep', 'knock', 'water_tap', 'helicopter', \n",
    "                         'mouse_click', 'dog_barking', 'cat', 'crowd', 'glass_breaking'])"
   ]
  },
  {
   "cell_type": "code",
   "execution_count": 0,
   "metadata": {
    "colab": {
     "autoexec": {
      "startup": false,
      "wait_interval": 0
     }
    },
    "colab_type": "code",
    "id": "oH_WYlDS68Zy"
   },
   "outputs": [],
   "source": [
    "class AudioDataset(Dataset):\n",
    "    def __init__(self, csv_file_path, npy_file_path, y_le=None):\n",
    "        csv_file = pd.read_csv(csv_file_path)\n",
    "\n",
    "        self.le = y_le\n",
    "        self.target = csv_file[\"target\"].get_values()\n",
    "        \n",
    "        if y_le is None:\n",
    "            self.encoded_target = self.target\n",
    "        else:\n",
    "            self.encoded_target = y_le.transform(self.target)\n",
    "        self.mels = np.load(npy_file_path)\n",
    "        \n",
    "    def __len__(self):\n",
    "        return len(self.mels)\n",
    "    \n",
    "    def __getitem__(self, idx):\n",
    "        mel = self.mels[idx]\n",
    "        mel = mel/mel.sum()\n",
    "        encoded_label = self.encoded_target[idx]\n",
    "        \n",
    "        if self.le is not None:\n",
    "            return {\"mel\": mel, \"target\": encoded_label}\n",
    "        else:\n",
    "            return {\"mel\": mel}"
   ]
  },
  {
   "cell_type": "code",
   "execution_count": 0,
   "metadata": {
    "colab": {
     "autoexec": {
      "startup": false,
      "wait_interval": 0
     }
    },
    "colab_type": "code",
    "id": "B2LqjA_a68aB"
   },
   "outputs": [],
   "source": [
    "class ConvNet(nn.Module):\n",
    "    def __init__(self, num_classes=10, p=0.5):\n",
    "        super(ConvNet, self).__init__()\n",
    "        self.layer1 = nn.Sequential(\n",
    "            nn.Dropout(p=p),\n",
    "            nn.Conv2d(1, 32, kernel_size=3, stride=1, padding=2),\n",
    "            nn.BatchNorm2d(32),\n",
    "            nn.ReLU(),\n",
    "            nn.MaxPool2d(kernel_size=4, stride=4),\n",
    "            nn.Dropout(p=0.1),\n",
    "        )\n",
    "        self.layer2 = nn.Sequential(\n",
    "            nn.Conv2d(32, 64, kernel_size=5, stride=1, padding=2),\n",
    "            nn.BatchNorm2d(64),\n",
    "            nn.ReLU(),\n",
    "            nn.MaxPool2d(kernel_size=2, stride=2),\n",
    "            nn.Dropout(p=0.2)\n",
    "        )\n",
    "        self.layer3 = nn.Sequential(\n",
    "            nn.Conv2d(64, 128, kernel_size=5, stride=1, padding=2),\n",
    "            nn.BatchNorm2d(128),\n",
    "            nn.ReLU(),\n",
    "            nn.MaxPool2d(kernel_size=2, stride=2),\n",
    "            nn.Dropout(p=0.2)\n",
    "        )\n",
    "        self.fc = nn.Linear(11*8*128, num_classes)\n",
    "        \n",
    "    def forward(self, x):\n",
    "        out = self.layer1(x)\n",
    "        out = self.layer2(out)\n",
    "        out = self.layer3(out)\n",
    "        out = out.reshape(out.size(0), -1)\n",
    "        out = self.fc(out)\n",
    "        return out"
   ]
  },
  {
   "cell_type": "code",
   "execution_count": 11,
   "metadata": {
    "colab": {
     "autoexec": {
      "startup": false,
      "wait_interval": 0
     },
     "base_uri": "https://localhost:8080/",
     "height": 34
    },
    "colab_type": "code",
    "executionInfo": {
     "elapsed": 794,
     "status": "ok",
     "timestamp": 1532373217006,
     "user": {
      "displayName": "Александр Мамаев",
      "photoUrl": "//lh5.googleusercontent.com/-p5lRdcZ8PCM/AAAAAAAAAAI/AAAAAAAALD8/m_dzDa69z-E/s50-c-k-no/photo.jpg",
      "userId": "104021652743759616096"
     },
     "user_tz": -240
    },
    "id": "-clhHiZE68aH",
    "outputId": "65b52986-7866-41f3-f3b4-3695114375aa"
   },
   "outputs": [
    {
     "name": "stdout",
     "output_type": "stream",
     "text": [
      "Device: cuda:0\n"
     ]
    }
   ],
   "source": [
    "device = torch.device('cuda:0' if torch.cuda.is_available() else 'cpu')\n",
    "print(\"Device:\", device)"
   ]
  },
  {
   "cell_type": "markdown",
   "metadata": {
    "colab_type": "text",
    "id": "h3OmzPs22LBK"
   },
   "source": [
    "## Pretrain Model"
   ]
  },
  {
   "cell_type": "code",
   "execution_count": 0,
   "metadata": {
    "colab": {
     "autoexec": {
      "startup": false,
      "wait_interval": 0
     }
    },
    "colab_type": "code",
    "id": "b1_rLOat68aM"
   },
   "outputs": [],
   "source": [
    "model = ConvNet(num_classes=len(le2.classes_), p=0.2).to(device)"
   ]
  },
  {
   "cell_type": "code",
   "execution_count": 0,
   "metadata": {
    "colab": {
     "autoexec": {
      "startup": false,
      "wait_interval": 0
     }
    },
    "colab_type": "code",
    "id": "rQhSmrI_2J97"
   },
   "outputs": [],
   "source": [
    "train_dataset = AudioDataset(WORKDIR_PATH+\"/train-pretrain.csv\", WORKDIR_PATH+\"/train-pretrain.npy\", le2)\n",
    "val_dataset = AudioDataset(WORKDIR_PATH+\"/val-pretrain.csv\", WORKDIR_PATH+\"/val-pretrain.npy\", le2)\n",
    "\n",
    "train_dataloader = DataLoader(train_dataset, batch_size=32, shuffle=True, num_workers=4)\n",
    "val_dataloader = DataLoader(val_dataset, batch_size=32, shuffle=True, num_workers=4)"
   ]
  },
  {
   "cell_type": "code",
   "execution_count": 14,
   "metadata": {
    "colab": {
     "autoexec": {
      "startup": false,
      "wait_interval": 0
     },
     "base_uri": "https://localhost:8080/",
     "height": 285
    },
    "colab_type": "code",
    "executionInfo": {
     "elapsed": 2185,
     "status": "ok",
     "timestamp": 1532373241632,
     "user": {
      "displayName": "Александр Мамаев",
      "photoUrl": "//lh5.googleusercontent.com/-p5lRdcZ8PCM/AAAAAAAAAAI/AAAAAAAALD8/m_dzDa69z-E/s50-c-k-no/photo.jpg",
      "userId": "104021652743759616096"
     },
     "user_tz": -240
    },
    "id": "vPYSFHNF2dSJ",
    "outputId": "d46acedf-f451-4725-d2e1-dcc5a4f29249"
   },
   "outputs": [
    {
     "data": {
      "text/plain": [
       "<matplotlib.image.AxesImage at 0x7f55d53d3c50>"
      ]
     },
     "execution_count": 14,
     "metadata": {
      "tags": []
     },
     "output_type": "execute_result"
    },
    {
     "data": {
      "image/png": "[encoded data removed]",
      "text/plain": [
       "<matplotlib.figure.Figure at 0x7f55dc6e85f8>"
      ]
     },
     "metadata": {
      "tags": []
     },
     "output_type": "display_data"
    }
   ],
   "source": [
    "plt.imshow(train_dataset[123][\"mel\"][0])"
   ]
  },
  {
   "cell_type": "code",
   "execution_count": 0,
   "metadata": {
    "colab": {
     "autoexec": {
      "startup": false,
      "wait_interval": 0
     }
    },
    "colab_type": "code",
    "id": "UO9GNhhx3RvC"
   },
   "outputs": [],
   "source": [
    "num_epochs = 100\n",
    "learning_rate = 0.0005\n",
    "\n",
    "criterion = nn.CrossEntropyLoss()\n",
    "optimizer = torch.optim.Adam(model.parameters(), lr=learning_rate)"
   ]
  },
  {
   "cell_type": "code",
   "execution_count": 16,
   "metadata": {
    "colab": {
     "autoexec": {
      "startup": false,
      "wait_interval": 0
     },
     "base_uri": "https://localhost:8080/",
     "height": 326
    },
    "colab_type": "code",
    "executionInfo": {
     "elapsed": 333,
     "status": "ok",
     "timestamp": 1532373830358,
     "user": {
      "displayName": "Александр Мамаев",
      "photoUrl": "//lh5.googleusercontent.com/-p5lRdcZ8PCM/AAAAAAAAAAI/AAAAAAAALD8/m_dzDa69z-E/s50-c-k-no/photo.jpg",
      "userId": "104021652743759616096"
     },
     "user_tz": -240
    },
    "id": "SOd_W1cT3XyR",
    "outputId": "9492110b-56df-4dfd-fe46-7fa285ae807a"
   },
   "outputs": [
    {
     "data": {
      "image/png": "[encoded data removed]",
      "text/plain": [
       "<matplotlib.figure.Figure at 0x7f55d075e748>"
      ]
     },
     "metadata": {
      "tags": []
     },
     "output_type": "display_data"
    }
   ],
   "source": [
    "liveloss = PlotLosses()\n",
    "total_step = len(train_dataloader)\n",
    "for epoch in range(num_epochs):\n",
    "    epoch_losses = []\n",
    "    epoch_accuracy = []\n",
    "    \n",
    "    for batch in train_dataloader:\n",
    "        mels = batch[\"mel\"].to(device)\n",
    "        labels = batch[\"target\"].to(device)\n",
    "        \n",
    "        outputs = model(mels)\n",
    "        loss = criterion(outputs, labels)\n",
    "\n",
    "        optimizer.zero_grad()\n",
    "        loss.backward()\n",
    "        optimizer.step()\n",
    "        \n",
    "        epoch_losses.append(loss.item())\n",
    "        epoch_accuracy.append(accuracy_score(torch.argmax(outputs, 1), labels))\n",
    "#         print(\"Epoch: %s;Batch: %s;Loss: %s\" % (epoch, i, loss.item()))\n",
    "    \n",
    "    accuracy_val = []\n",
    "    for batch in val_dataloader:\n",
    "        mels = batch[\"mel\"].to(device)\n",
    "        labels = batch[\"target\"].data.numpy()\n",
    "\n",
    "        out = model(mels)\n",
    "        pred = torch.argmax(out, 1).cpu().data.numpy()\n",
    "        accuracy_val.append(accuracy_score(pred, labels))\n",
    "    \n",
    "    liveloss.update({\n",
    "        'log loss': np.mean(epoch_losses),\n",
    "        'accuracy': np.mean(epoch_accuracy),\n",
    "        'val_accuracy': np.mean(accuracy_val)\n",
    "    })\n",
    "    liveloss.draw()"
   ]
  },
  {
   "cell_type": "markdown",
   "metadata": {
    "colab_type": "text",
    "id": "b5cxDZOI2U5z"
   },
   "source": [
    "## Train main model"
   ]
  },
  {
   "cell_type": "code",
   "execution_count": 0,
   "metadata": {
    "colab": {
     "autoexec": {
      "startup": false,
      "wait_interval": 0
     }
    },
    "colab_type": "code",
    "id": "UY2TFdS13tRq"
   },
   "outputs": [],
   "source": [
    "model.fc = nn.Linear(11*8*128, len(le1.classes_)).to(device)"
   ]
  },
  {
   "cell_type": "code",
   "execution_count": 0,
   "metadata": {
    "colab": {
     "autoexec": {
      "startup": false,
      "wait_interval": 0
     }
    },
    "colab_type": "code",
    "id": "Jb5of5-N68Z2"
   },
   "outputs": [],
   "source": [
    "train_dataset = AudioDataset(WORKDIR_PATH+\"/train.csv\", WORKDIR_PATH+\"/train.npy\", le1)\n",
    "val_dataset = AudioDataset(WORKDIR_PATH+\"/val.csv\", WORKDIR_PATH+\"/val.npy\", le1)\n",
    "\n",
    "train_dataloader = DataLoader(train_dataset, batch_size=64, shuffle=True, num_workers=4)\n",
    "val_dataloader = DataLoader(val_dataset, batch_size=64, shuffle=True, num_workers=4)"
   ]
  },
  {
   "cell_type": "code",
   "execution_count": 19,
   "metadata": {
    "colab": {
     "autoexec": {
      "startup": false,
      "wait_interval": 0
     },
     "base_uri": "https://localhost:8080/",
     "height": 285
    },
    "colab_type": "code",
    "executionInfo": {
     "elapsed": 745,
     "status": "ok",
     "timestamp": 1532373917620,
     "user": {
      "displayName": "Александр Мамаев",
      "photoUrl": "//lh5.googleusercontent.com/-p5lRdcZ8PCM/AAAAAAAAAAI/AAAAAAAALD8/m_dzDa69z-E/s50-c-k-no/photo.jpg",
      "userId": "104021652743759616096"
     },
     "user_tz": -240
    },
    "id": "RJJzYRA668Z5",
    "outputId": "d1def1b2-c096-45dc-9b5e-03e3fc0ec73f"
   },
   "outputs": [
    {
     "data": {
      "text/plain": [
       "<matplotlib.image.AxesImage at 0x7f55dc6cecc0>"
      ]
     },
     "execution_count": 19,
     "metadata": {
      "tags": []
     },
     "output_type": "execute_result"
    },
    {
     "data": {
      "image/png": "[encoded data removed]",
      "text/plain": [
       "<matplotlib.figure.Figure at 0x7f55d5388c88>"
      ]
     },
     "metadata": {
      "tags": []
     },
     "output_type": "display_data"
    }
   ],
   "source": [
    "plt.imshow(train_dataset[123][\"mel\"][0])"
   ]
  },
  {
   "cell_type": "code",
   "execution_count": 0,
   "metadata": {
    "colab": {
     "autoexec": {
      "startup": false,
      "wait_interval": 0
     }
    },
    "colab_type": "code",
    "id": "MUTNJsjA68aP"
   },
   "outputs": [],
   "source": [
    "num_epochs = 100\n",
    "learning_rate = 0.0001\n",
    "\n",
    "criterion = nn.CrossEntropyLoss()\n",
    "optimizer = torch.optim.Adam(model.parameters(), lr=learning_rate)"
   ]
  },
  {
   "cell_type": "code",
   "execution_count": 0,
   "metadata": {
    "colab": {
     "autoexec": {
      "startup": false,
      "wait_interval": 0
     }
    },
    "colab_type": "code",
    "id": "nI5aRgfzO2TF"
   },
   "outputs": [],
   "source": [
    "from sklearn.metrics import accuracy_score"
   ]
  },
  {
   "cell_type": "code",
   "execution_count": 34,
   "metadata": {
    "colab": {
     "autoexec": {
      "startup": false,
      "wait_interval": 0
     },
     "base_uri": "https://localhost:8080/",
     "height": 326
    },
    "colab_type": "code",
    "executionInfo": {
     "elapsed": 9,
     "status": "ok",
     "timestamp": 1532376156751,
     "user": {
      "displayName": "Александр Мамаев",
      "photoUrl": "//lh5.googleusercontent.com/-p5lRdcZ8PCM/AAAAAAAAAAI/AAAAAAAALD8/m_dzDa69z-E/s50-c-k-no/photo.jpg",
      "userId": "104021652743759616096"
     },
     "user_tz": -240
    },
    "id": "Am7L_hsP68aS",
    "outputId": "96aa4502-cacf-4f71-becd-19638de38c70"
   },
   "outputs": [
    {
     "data": {
      "image/png": "[encoded data removed]",
      "text/plain": [
       "<matplotlib.figure.Figure at 0x7f55d2afa7b8>"
      ]
     },
     "metadata": {
      "tags": []
     },
     "output_type": "display_data"
    }
   ],
   "source": [
    "liveloss = PlotLosses()\n",
    "total_step = len(train_dataloader)\n",
    "\n",
    "for epoch in range(num_epochs):\n",
    "    epoch_losses = []\n",
    "    epoch_accuracy = []\n",
    "    \n",
    "    for batch in train_dataloader:\n",
    "        mels = batch[\"mel\"].to(device)\n",
    "        labels = batch[\"target\"].to(device)\n",
    "        \n",
    "        outputs = model(mels)\n",
    "        loss = criterion(outputs, labels)\n",
    "\n",
    "        optimizer.zero_grad()\n",
    "        loss.backward()\n",
    "        optimizer.step()\n",
    "        \n",
    "        epoch_losses.append(loss.item())\n",
    "        epoch_accuracy.append(accuracy_score(torch.argmax(outputs, 1), labels))\n",
    "#         print(\"Epoch: %s;Batch: %s;Loss: %s\" % (epoch, i, loss.item()))\n",
    "    \n",
    "    accuracy_val = []\n",
    "    for batch in val_dataloader:\n",
    "        mels = batch[\"mel\"].to(device)\n",
    "        labels = batch[\"target\"].data.numpy()\n",
    "\n",
    "        out = model(mels)\n",
    "        pred = torch.argmax(out, 1).cpu().data.numpy()\n",
    "        accuracy_val.append(accuracy_score(pred, labels))\n",
    "    \n",
    "    liveloss.update({\n",
    "        'log loss': np.mean(epoch_losses),\n",
    "        'accuracy': np.mean(epoch_accuracy),\n",
    "        'val_accuracy': np.mean(accuracy_val)\n",
    "    })\n",
    "    liveloss.draw()"
   ]
  },
  {
   "cell_type": "code",
   "execution_count": 35,
   "metadata": {
    "colab": {
     "autoexec": {
      "startup": false,
      "wait_interval": 0
     },
     "base_uri": "https://localhost:8080/",
     "height": 34
    },
    "colab_type": "code",
    "executionInfo": {
     "elapsed": 3335,
     "status": "ok",
     "timestamp": 1532376255451,
     "user": {
      "displayName": "Александр Мамаев",
      "photoUrl": "//lh5.googleusercontent.com/-p5lRdcZ8PCM/AAAAAAAAAAI/AAAAAAAALD8/m_dzDa69z-E/s50-c-k-no/photo.jpg",
      "userId": "104021652743759616096"
     },
     "user_tz": -240
    },
    "id": "EMtdLga3aEfy",
    "outputId": "068ab85f-f199-426a-eced-dbe4f6b36057"
   },
   "outputs": [
    {
     "name": "stdout",
     "output_type": "stream",
     "text": [
      "Test accuracy: 0.9878177966101694\n"
     ]
    }
   ],
   "source": [
    "accuracy_val = []\n",
    "for batch in val_dataloader:\n",
    "    mels = batch[\"mel\"].to(device)\n",
    "    labels = batch[\"target\"].data.numpy()\n",
    "    \n",
    "    out = model(mels)\n",
    "    pred = torch.argmax(out, 1).cpu().data.numpy()\n",
    "    accuracy_val.append(accuracy_score(pred, labels))\n",
    "\n",
    "print(\"Test accuracy:\", np.mean(accuracy_val))"
   ]
  },
  {
   "cell_type": "code",
   "execution_count": 0,
   "metadata": {
    "colab": {
     "autoexec": {
      "startup": false,
      "wait_interval": 0
     }
    },
    "colab_type": "code",
    "id": "4yj7kyfEZpuW"
   },
   "outputs": [],
   "source": [
    "test_dataset = AudioDataset(WORKDIR_PATH+\"/test.csv\", WORKDIR_PATH+\"/test.npy\")\n",
    "test_dataloader = DataLoader(test_dataset, batch_size=32)"
   ]
  },
  {
   "cell_type": "code",
   "execution_count": 37,
   "metadata": {
    "colab": {
     "autoexec": {
      "startup": false,
      "wait_interval": 0
     },
     "base_uri": "https://localhost:8080/",
     "height": 268
    },
    "colab_type": "code",
    "executionInfo": {
     "elapsed": 786,
     "status": "ok",
     "timestamp": 1532376259918,
     "user": {
      "displayName": "Александр Мамаев",
      "photoUrl": "//lh5.googleusercontent.com/-p5lRdcZ8PCM/AAAAAAAAAAI/AAAAAAAALD8/m_dzDa69z-E/s50-c-k-no/photo.jpg",
      "userId": "104021652743759616096"
     },
     "user_tz": -240
    },
    "id": "lzYWTWyOmsQd",
    "outputId": "e7c3d06d-bf75-4779-8ee7-6d0f7402a528"
   },
   "outputs": [
    {
     "data": {
      "image/png": "[encoded data removed]",
      "text/plain": [
       "<matplotlib.figure.Figure at 0x7f55cfdb9390>"
      ]
     },
     "metadata": {
      "tags": []
     },
     "output_type": "display_data"
    }
   ],
   "source": [
    "test_csv = pd.read_csv(WORKDIR_PATH+\"/test.csv\", index_col=0)\n",
    "test_csv.head()\n",
    "\n",
    "plt.imshow(test_dataset[5][\"mel\"][0])\n",
    "plt.show()"
   ]
  },
  {
   "cell_type": "code",
   "execution_count": 0,
   "metadata": {
    "colab": {
     "autoexec": {
      "startup": false,
      "wait_interval": 0
     }
    },
    "colab_type": "code",
    "id": "NCX9Prevmg6S"
   },
   "outputs": [],
   "source": [
    "submit_proba = []\n",
    "submit_labels = []\n",
    "\n",
    "for batch in test_dataloader:\n",
    "    mel = batch[\"mel\"].to(device)\n",
    "    model_output = nn.Softmax(dim=1)(model.forward(mel))\n",
    "    proba, labels = model_output.max(dim=1)\n",
    "    proba = proba.cpu().data.numpy()\n",
    "    labels = labels.cpu().data.numpy()\n",
    "\n",
    "    submit_proba.append(proba)\n",
    "    submit_labels.append(labels)"
   ]
  },
  {
   "cell_type": "code",
   "execution_count": 0,
   "metadata": {
    "colab": {
     "autoexec": {
      "startup": false,
      "wait_interval": 0
     }
    },
    "colab_type": "code",
    "id": "qi3oD_EnnAGS"
   },
   "outputs": [],
   "source": [
    "submit_proba = np.concatenate(submit_proba)\n",
    "submit_labels = np.concatenate(submit_labels)"
   ]
  },
  {
   "cell_type": "code",
   "execution_count": 40,
   "metadata": {
    "colab": {
     "autoexec": {
      "startup": false,
      "wait_interval": 0
     },
     "base_uri": "https://localhost:8080/",
     "height": 278
    },
    "colab_type": "code",
    "executionInfo": {
     "elapsed": 869,
     "status": "ok",
     "timestamp": 1532376264472,
     "user": {
      "displayName": "Александр Мамаев",
      "photoUrl": "//lh5.googleusercontent.com/-p5lRdcZ8PCM/AAAAAAAAAAI/AAAAAAAALD8/m_dzDa69z-E/s50-c-k-no/photo.jpg",
      "userId": "104021652743759616096"
     },
     "user_tz": -240
    },
    "id": "XarZJtT-UAyl",
    "outputId": "091fabb0-8acc-4507-db19-01c74b3c9039"
   },
   "outputs": [
    {
     "name": "stderr",
     "output_type": "stream",
     "text": [
      "/usr/local/lib/python3.6/dist-packages/sklearn/preprocessing/label.py:151: DeprecationWarning: The truth value of an empty array is ambiguous. Returning False, but in future this will result in an error. Use `array.size > 0` to check that an array is not empty.\n",
      "  if diff:\n"
     ]
    },
    {
     "data": {
      "text/html": [
       "<div>\n",
       "<style scoped>\n",
       "    .dataframe tbody tr th:only-of-type {\n",
       "        vertical-align: middle;\n",
       "    }\n",
       "\n",
       "    .dataframe tbody tr th {\n",
       "        vertical-align: top;\n",
       "    }\n",
       "\n",
       "    .dataframe thead th {\n",
       "        text-align: right;\n",
       "    }\n",
       "</style>\n",
       "<table border=\"1\" class=\"dataframe\">\n",
       "  <thead>\n",
       "    <tr style=\"text-align: right;\">\n",
       "      <th></th>\n",
       "      <th>name</th>\n",
       "      <th>proba</th>\n",
       "      <th>target</th>\n",
       "    </tr>\n",
       "  </thead>\n",
       "  <tbody>\n",
       "    <tr>\n",
       "      <th>0</th>\n",
       "      <td>unknown_0063.wav</td>\n",
       "      <td>0.465286</td>\n",
       "      <td>tool</td>\n",
       "    </tr>\n",
       "    <tr>\n",
       "      <th>1</th>\n",
       "      <td>unknown_0077.wav</td>\n",
       "      <td>0.999813</td>\n",
       "      <td>keyboard</td>\n",
       "    </tr>\n",
       "    <tr>\n",
       "      <th>2</th>\n",
       "      <td>unknown_0088.wav</td>\n",
       "      <td>0.877850</td>\n",
       "      <td>background</td>\n",
       "    </tr>\n",
       "    <tr>\n",
       "      <th>3</th>\n",
       "      <td>keyboard_0035.wav</td>\n",
       "      <td>1.000000</td>\n",
       "      <td>keyboard</td>\n",
       "    </tr>\n",
       "    <tr>\n",
       "      <th>4</th>\n",
       "      <td>knocking_door_t_0002.wav</td>\n",
       "      <td>1.000000</td>\n",
       "      <td>knocking_door</td>\n",
       "    </tr>\n",
       "  </tbody>\n",
       "</table>\n",
       "</div>"
      ],
      "text/plain": [
       "                       name     proba         target\n",
       "0          unknown_0063.wav  0.465286           tool\n",
       "1          unknown_0077.wav  0.999813       keyboard\n",
       "2          unknown_0088.wav  0.877850     background\n",
       "3         keyboard_0035.wav  1.000000       keyboard\n",
       "4  knocking_door_t_0002.wav  1.000000  knocking_door"
      ]
     },
     "execution_count": 40,
     "metadata": {
      "tags": []
     },
     "output_type": "execute_result"
    }
   ],
   "source": [
    "test_csv[\"target\"] = le1.inverse_transform(submit_labels)\n",
    "test_csv[\"proba\"] = submit_proba\n",
    "test_csv = test_csv[[\"name\", \"proba\", \"target\"]]\n",
    "test_csv.head()"
   ]
  },
  {
   "cell_type": "code",
   "execution_count": 0,
   "metadata": {
    "colab": {
     "autoexec": {
      "startup": false,
      "wait_interval": 0
     }
    },
    "colab_type": "code",
    "id": "aZT3Lf8lYinC"
   },
   "outputs": [],
   "source": [
    "test_csv.to_csv(WORKDIR_PATH+\"/my_result.txt\", index=False, header=False, sep=\"\\t\")"
   ]
  },
  {
   "cell_type": "code",
   "execution_count": 42,
   "metadata": {
    "colab": {
     "autoexec": {
      "startup": false,
      "wait_interval": 0
     },
     "base_uri": "https://localhost:8080/",
     "height": 34
    },
    "colab_type": "code",
    "executionInfo": {
     "elapsed": 1511,
     "status": "ok",
     "timestamp": 1532376268109,
     "user": {
      "displayName": "Александр Мамаев",
      "photoUrl": "//lh5.googleusercontent.com/-p5lRdcZ8PCM/AAAAAAAAAAI/AAAAAAAALD8/m_dzDa69z-E/s50-c-k-no/photo.jpg",
      "userId": "104021652743759616096"
     },
     "user_tz": -240
    },
    "id": "ogL9yv09jB-v",
    "outputId": "9a855b38-1a8a-40fe-d377-48ca8da720b6"
   },
   "outputs": [
    {
     "data": {
      "text/plain": [
       "0.9377049180327869"
      ]
     },
     "execution_count": 42,
     "metadata": {
      "tags": []
     },
     "output_type": "execute_result"
    }
   ],
   "source": [
    "k, f = 0,0\n",
    "for n, t in zip(test_csv[\"name\"].get_values(), test_csv[\"target\"].get_values()):\n",
    "    if \"unknown\" in n or t in n:\n",
    "        f+=1\n",
    "    k+=1\n",
    "\n",
    "f/k"
   ]
  },
  {
   "cell_type": "code",
   "execution_count": 0,
   "metadata": {
    "colab": {
     "autoexec": {
      "startup": false,
      "wait_interval": 0
     }
    },
    "colab_type": "code",
    "id": "vUEZ4OPvjC2s"
   },
   "outputs": [],
   "source": []
  }
 ],
 "metadata": {
  "accelerator": "GPU",
  "colab": {
   "collapsed_sections": [],
   "default_view": {},
   "name": "2model.ipynb",
   "provenance": [],
   "version": "0.3.2",
   "views": {}
  },
  "kernelspec": {
   "display_name": "Python 3",
   "language": "python",
   "name": "python3"
  },
  "language_info": {
   "codemirror_mode": {
    "name": "ipython",
    "version": 3
   },
   "file_extension": ".py",
   "mimetype": "text/x-python",
   "name": "python",
   "nbconvert_exporter": "python",
   "pygments_lexer": "ipython3",
   "version": "3.6.4"
  }
 },
 "nbformat": 4,
 "nbformat_minor": 1
}
