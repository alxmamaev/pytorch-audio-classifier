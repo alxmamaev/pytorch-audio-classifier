{
  "nbformat": 4,
  "nbformat_minor": 0,
  "metadata": {
    "colab": {
      "name": "2model.ipynb",
      "version": "0.3.2",
      "views": {},
      "default_view": {},
      "provenance": [],
      "collapsed_sections": []
    },
    "kernelspec": {
      "name": "python3",
      "display_name": "Python 3"
    },
    "accelerator": "GPU"
  },
  "cells": [
    {
      "metadata": {
        "id": "4kgyGzljO8T-",
        "colab_type": "text"
      },
      "cell_type": "markdown",
      "source": [
        "## ML-Speech Pro school"
      ]
    },
    {
      "metadata": {
        "id": "LYqkyHBB7NIC",
        "colab_type": "code",
        "colab": {
          "autoexec": {
            "startup": false,
            "wait_interval": 0
          }
        }
      },
      "cell_type": "code",
      "source": [
        "!pip install torch\n",
        "!apt-get install sox libsox-dev libsox-fmt-all\n",
        "!pip install setuptools --upgrade\n",
        "!pip install librosa\n",
        "!pip install git+git://github.com/pytorch/audio\n",
        "!pip install livelossplot\n",
        "!pip install tqdm"
      ],
      "execution_count": 0,
      "outputs": []
    },
    {
      "metadata": {
        "id": "CGXw50YY7Oi9",
        "colab_type": "code",
        "colab": {
          "autoexec": {
            "startup": false,
            "wait_interval": 0
          }
        }
      },
      "cell_type": "code",
      "source": [
        "# !apt-get install -y -qq software-properties-common python-software-properties module-init-tools\n",
        "# !add-apt-repository -y ppa:alessandro-strada/ppa 2>&1 > /dev/null\n",
        "# !apt-get update -qq 2>&1 > /dev/null\n",
        "# !apt-get -y install -qq google-drive-ocamlfuse fuse\n",
        "\n",
        "# from google.colab import auth\n",
        "# auth.authenticate_user()\n",
        "# from oauth2client.client import GoogleCredentials\n",
        "# creds = GoogleCredentials.get_application_default()\n",
        "# import getpass\n",
        "\n",
        "# !google-drive-ocamlfuse -headless -id={creds.client_id} -secret={creds.client_secret} < /dev/null 2>&1 | grep URL\n",
        "# vcode = getpass.getpass()\n",
        "# !echo {vcode} | google-drive-ocamlfuse -headless -id={creds.client_id} -secret={creds.client_secret}"
      ],
      "execution_count": 0,
      "outputs": []
    },
    {
      "metadata": {
        "id": "f-q6m-KW7SYj",
        "colab_type": "code",
        "colab": {
          "autoexec": {
            "startup": false,
            "wait_interval": 0
          }
        }
      },
      "cell_type": "code",
      "source": [
        "# !mkdir -p drive\n",
        "# !google-drive-ocamlfuse drive\n",
        "# !ls drive"
      ],
      "execution_count": 0,
      "outputs": []
    },
    {
      "metadata": {
        "id": "CebRp_8auOHr",
        "colab_type": "code",
        "colab": {
          "autoexec": {
            "startup": false,
            "wait_interval": 0
          }
        }
      },
      "cell_type": "code",
      "source": [
        ""
      ],
      "execution_count": 0,
      "outputs": []
    },
    {
      "metadata": {
        "id": "fmUeIPSb68Zm",
        "colab_type": "code",
        "colab": {
          "autoexec": {
            "startup": false,
            "wait_interval": 0
          }
        }
      },
      "cell_type": "code",
      "source": [
        "import torch\n",
        "import numpy as np\n",
        "from torch import nn\n",
        "import torchaudio\n",
        "import os\n",
        "from matplotlib import pyplot as plt\n",
        "import pandas as pd\n",
        "from torch.utils.data import DataLoader, Dataset\n",
        "from sklearn.preprocessing import LabelEncoder\n",
        "from livelossplot import PlotLosses\n",
        "from tqdm import tqdm, tqdm_notebook\n",
        "from sklearn.metrics import accuracy_score\n",
        "\n",
        "%matplotlib inline"
      ],
      "execution_count": 0,
      "outputs": []
    },
    {
      "metadata": {
        "id": "LHaZ3kLoNXVN",
        "colab_type": "code",
        "colab": {
          "autoexec": {
            "startup": false,
            "wait_interval": 0
          }
        }
      },
      "cell_type": "code",
      "source": [
        "WORKDIR_PATH = \"drive/DeepLearning\""
      ],
      "execution_count": 0,
      "outputs": []
    },
    {
      "metadata": {
        "id": "EK7LaBTf68Zt",
        "colab_type": "code",
        "colab": {
          "autoexec": {
            "startup": false,
            "wait_interval": 0
          }
        }
      },
      "cell_type": "code",
      "source": [
        "le1 = LabelEncoder().fit(['background', 'bags', 'door', 'keyboard', 'knocking_door', 'ring', 'speech', 'tool'])\n",
        "le2 = LabelEncoder().fit(['scream', 'laughter', 'car', 'acoustic_guitar', 'airplane', 'ocean_surf', 'squeak', \n",
        "                         'whistle', 'bird', 'speech_fs', 'rustle', 'applause', 'church_bell', 'tone', 'hammer', \n",
        "                         'violin', 'fireworks', 'engine', 'child', 'footstep', 'knock', 'water_tap', 'helicopter', \n",
        "                         'mouse_click', 'dog_barking', 'cat', 'crowd', 'glass_breaking'])"
      ],
      "execution_count": 0,
      "outputs": []
    },
    {
      "metadata": {
        "id": "oH_WYlDS68Zy",
        "colab_type": "code",
        "colab": {
          "autoexec": {
            "startup": false,
            "wait_interval": 0
          }
        }
      },
      "cell_type": "code",
      "source": [
        "class AudioDataset(Dataset):\n",
        "    def __init__(self, csv_file_path, npy_file_path, y_le=None):\n",
        "        csv_file = pd.read_csv(csv_file_path)\n",
        "\n",
        "        self.le = y_le\n",
        "        self.target = csv_file[\"target\"].get_values()\n",
        "        \n",
        "        if y_le is None:\n",
        "            self.encoded_target = self.target\n",
        "        else:\n",
        "            self.encoded_target = y_le.transform(self.target)\n",
        "        self.mels = np.load(npy_file_path)\n",
        "        \n",
        "    def __len__(self):\n",
        "        return len(self.mels)\n",
        "    \n",
        "    def __getitem__(self, idx):\n",
        "        mel = self.mels[idx]\n",
        "        mel = mel/mel.sum()\n",
        "        encoded_label = self.encoded_target[idx]\n",
        "        \n",
        "        if self.le is not None:\n",
        "            return {\"mel\": mel, \"target\": encoded_label}\n",
        "        else:\n",
        "            return {\"mel\": mel}"
      ],
      "execution_count": 0,
      "outputs": []
    },
    {
      "metadata": {
        "id": "B2LqjA_a68aB",
        "colab_type": "code",
        "colab": {
          "autoexec": {
            "startup": false,
            "wait_interval": 0
          }
        }
      },
      "cell_type": "code",
      "source": [
        "class ConvNet(nn.Module):\n",
        "    def __init__(self, num_classes=10, p=0.5):\n",
        "        super(ConvNet, self).__init__()\n",
        "        self.layer1 = nn.Sequential(\n",
        "            nn.Dropout(p=p),\n",
        "            nn.Conv2d(1, 32, kernel_size=3, stride=1, padding=2),\n",
        "            nn.BatchNorm2d(32),\n",
        "            nn.ReLU(),\n",
        "            nn.MaxPool2d(kernel_size=4, stride=4),\n",
        "            nn.Dropout(p=0.1),\n",
        "        )\n",
        "        self.layer2 = nn.Sequential(\n",
        "            nn.Conv2d(32, 64, kernel_size=5, stride=1, padding=2),\n",
        "            nn.BatchNorm2d(64),\n",
        "            nn.ReLU(),\n",
        "            nn.MaxPool2d(kernel_size=2, stride=2),\n",
        "            nn.Dropout(p=0.2)\n",
        "        )\n",
        "        self.layer3 = nn.Sequential(\n",
        "            nn.Conv2d(64, 128, kernel_size=5, stride=1, padding=2),\n",
        "            nn.BatchNorm2d(128),\n",
        "            nn.ReLU(),\n",
        "            nn.MaxPool2d(kernel_size=2, stride=2),\n",
        "            nn.Dropout(p=0.2)\n",
        "        )\n",
        "        self.fc = nn.Linear(11*8*128, num_classes)\n",
        "        \n",
        "    def forward(self, x):\n",
        "        out = self.layer1(x)\n",
        "        out = self.layer2(out)\n",
        "        out = self.layer3(out)\n",
        "        out = out.reshape(out.size(0), -1)\n",
        "        out = self.fc(out)\n",
        "        return out"
      ],
      "execution_count": 0,
      "outputs": []
    },
    {
      "metadata": {
        "id": "-clhHiZE68aH",
        "colab_type": "code",
        "colab": {
          "autoexec": {
            "startup": false,
            "wait_interval": 0
          },
          "base_uri": "https://localhost:8080/",
          "height": 34
        },
        "outputId": "e0aef2c3-f93c-47ae-c02c-7c932dc27c49",
        "executionInfo": {
          "status": "ok",
          "timestamp": 1532377012365,
          "user_tz": -240,
          "elapsed": 1443,
          "user": {
            "displayName": "Александр Мамаев",
            "photoUrl": "//lh5.googleusercontent.com/-p5lRdcZ8PCM/AAAAAAAAAAI/AAAAAAAALD8/m_dzDa69z-E/s50-c-k-no/photo.jpg",
            "userId": "104021652743759616096"
          }
        }
      },
      "cell_type": "code",
      "source": [
        "device = torch.device('cuda:0' if torch.cuda.is_available() else 'cpu')\n",
        "print(\"Device:\", device)"
      ],
      "execution_count": 48,
      "outputs": [
        {
          "output_type": "stream",
          "text": [
            "Device: cuda:0\n"
          ],
          "name": "stdout"
        }
      ]
    },
    {
      "metadata": {
        "id": "h3OmzPs22LBK",
        "colab_type": "text"
      },
      "cell_type": "markdown",
      "source": [
        "## Pretrain Model"
      ]
    },
    {
      "metadata": {
        "id": "b1_rLOat68aM",
        "colab_type": "code",
        "colab": {
          "autoexec": {
            "startup": false,
            "wait_interval": 0
          }
        }
      },
      "cell_type": "code",
      "source": [
        "model = ConvNet(num_classes=len(le2.classes_), p=0.2).to(device)"
      ],
      "execution_count": 0,
      "outputs": []
    },
    {
      "metadata": {
        "id": "rQhSmrI_2J97",
        "colab_type": "code",
        "colab": {
          "autoexec": {
            "startup": false,
            "wait_interval": 0
          }
        }
      },
      "cell_type": "code",
      "source": [
        "train_dataset = AudioDataset(WORKDIR_PATH+\"/train-pretrain.csv\", WORKDIR_PATH+\"/train-pretrain.npy\", le2)\n",
        "val_dataset = AudioDataset(WORKDIR_PATH+\"/val-pretrain.csv\", WORKDIR_PATH+\"/val-pretrain.npy\", le2)\n",
        "\n",
        "train_dataloader = DataLoader(train_dataset, batch_size=32, shuffle=True, num_workers=4)\n",
        "val_dataloader = DataLoader(val_dataset, batch_size=32, shuffle=True, num_workers=4)"
      ],
      "execution_count": 0,
      "outputs": []
    },
    {
      "metadata": {
        "id": "vPYSFHNF2dSJ",
        "colab_type": "code",
        "colab": {
          "autoexec": {
            "startup": false,
            "wait_interval": 0
          },
          "base_uri": "https://localhost:8080/",
          "height": 285
        },
        "outputId": "6ab44589-2264-45f1-94a5-4e1fe50918f7",
        "executionInfo": {
          "status": "ok",
          "timestamp": 1532377027903,
          "user_tz": -240,
          "elapsed": 1284,
          "user": {
            "displayName": "Александр Мамаев",
            "photoUrl": "//lh5.googleusercontent.com/-p5lRdcZ8PCM/AAAAAAAAAAI/AAAAAAAALD8/m_dzDa69z-E/s50-c-k-no/photo.jpg",
            "userId": "104021652743759616096"
          }
        }
      },
      "cell_type": "code",
      "source": [
        "plt.imshow(train_dataset[123][\"mel\"][0])"
      ],
      "execution_count": 51,
      "outputs": [
        {
          "output_type": "execute_result",
          "data": {
            "text/plain": [
              "<matplotlib.image.AxesImage at 0x7f55d0ad1c88>"
            ]
          },
          "metadata": {
            "tags": []
          },
          "execution_count": 51
        },
        {
          "output_type": "display_data",
          "data": {
            "image/png": "[encoded data removed]",
            "text/plain": [
              "<matplotlib.figure.Figure at 0x7f56ca7f1ba8>"
            ]
          },
          "metadata": {
            "tags": []
          }
        }
      ]
    },
    {
      "metadata": {
        "id": "UO9GNhhx3RvC",
        "colab_type": "code",
        "colab": {
          "autoexec": {
            "startup": false,
            "wait_interval": 0
          }
        }
      },
      "cell_type": "code",
      "source": [
        "num_epochs = 100\n",
        "learning_rate = 0.0005\n",
        "\n",
        "criterion = nn.CrossEntropyLoss()\n",
        "optimizer = torch.optim.Adam(model.parameters(), lr=learning_rate)"
      ],
      "execution_count": 0,
      "outputs": []
    },
    {
      "metadata": {
        "id": "SOd_W1cT3XyR",
        "colab_type": "code",
        "colab": {
          "autoexec": {
            "startup": false,
            "wait_interval": 0
          },
          "base_uri": "https://localhost:8080/",
          "height": 326
        },
        "outputId": "7e917a90-4b10-4d7d-9e3d-9c4105de9c68",
        "executionInfo": {
          "status": "ok",
          "timestamp": 1532377639929,
          "user_tz": -240,
          "elapsed": 397,
          "user": {
            "displayName": "Александр Мамаев",
            "photoUrl": "//lh5.googleusercontent.com/-p5lRdcZ8PCM/AAAAAAAAAAI/AAAAAAAALD8/m_dzDa69z-E/s50-c-k-no/photo.jpg",
            "userId": "104021652743759616096"
          }
        }
      },
      "cell_type": "code",
      "source": [
        "liveloss = PlotLosses()\n",
        "total_step = len(train_dataloader)\n",
        "for epoch in range(num_epochs):\n",
        "    epoch_losses = []\n",
        "    epoch_accuracy = []\n",
        "    \n",
        "    for batch in train_dataloader:\n",
        "        mels = batch[\"mel\"].to(device)\n",
        "        labels = batch[\"target\"].to(device)\n",
        "        \n",
        "        outputs = model(mels)\n",
        "        loss = criterion(outputs, labels)\n",
        "\n",
        "        optimizer.zero_grad()\n",
        "        loss.backward()\n",
        "        optimizer.step()\n",
        "        \n",
        "        epoch_losses.append(loss.item())\n",
        "        epoch_accuracy.append(accuracy_score(torch.argmax(outputs, 1), labels))\n",
        "#         print(\"Epoch: %s;Batch: %s;Loss: %s\" % (epoch, i, loss.item()))\n",
        "    \n",
        "    accuracy_val = []\n",
        "    for batch in val_dataloader:\n",
        "        mels = batch[\"mel\"].to(device)\n",
        "        labels = batch[\"target\"].data.numpy()\n",
        "\n",
        "        out = model(mels)\n",
        "        pred = torch.argmax(out, 1).cpu().data.numpy()\n",
        "        accuracy_val.append(accuracy_score(pred, labels))\n",
        "    \n",
        "    liveloss.update({\n",
        "        'log loss': np.mean(epoch_losses),\n",
        "        'accuracy': np.mean(epoch_accuracy),\n",
        "        'val_accuracy': np.mean(accuracy_val)\n",
        "    })\n",
        "    liveloss.draw()"
      ],
      "execution_count": 53,
      "outputs": [
        {
          "output_type": "display_data",
          "data": {
            "image/png": "[encoded data removed]",
            "text/plain": [
              "<matplotlib.figure.Figure at 0x7f55d0c86400>"
            ]
          },
          "metadata": {
            "tags": []
          }
        }
      ]
    },
    {
      "metadata": {
        "id": "b5cxDZOI2U5z",
        "colab_type": "text"
      },
      "cell_type": "markdown",
      "source": [
        "## Train main model"
      ]
    },
    {
      "metadata": {
        "id": "UY2TFdS13tRq",
        "colab_type": "code",
        "colab": {
          "autoexec": {
            "startup": false,
            "wait_interval": 0
          }
        }
      },
      "cell_type": "code",
      "source": [
        "model.fc = nn.Linear(11*8*128, len(le1.classes_)).to(device)"
      ],
      "execution_count": 0,
      "outputs": []
    },
    {
      "metadata": {
        "id": "Jb5of5-N68Z2",
        "colab_type": "code",
        "colab": {
          "autoexec": {
            "startup": false,
            "wait_interval": 0
          }
        }
      },
      "cell_type": "code",
      "source": [
        "train_dataset = AudioDataset(WORKDIR_PATH+\"/train.csv\", WORKDIR_PATH+\"/train.npy\", le1)\n",
        "val_dataset = AudioDataset(WORKDIR_PATH+\"/val.csv\", WORKDIR_PATH+\"/val.npy\", le1)\n",
        "\n",
        "train_dataloader = DataLoader(train_dataset, batch_size=64, shuffle=True, num_workers=4)\n",
        "val_dataloader = DataLoader(val_dataset, batch_size=64, shuffle=True, num_workers=4)"
      ],
      "execution_count": 0,
      "outputs": []
    },
    {
      "metadata": {
        "id": "RJJzYRA668Z5",
        "colab_type": "code",
        "colab": {
          "autoexec": {
            "startup": false,
            "wait_interval": 0
          },
          "base_uri": "https://localhost:8080/",
          "height": 285
        },
        "outputId": "29a6dd8e-eff7-4372-e2ec-7c1b97cde318",
        "executionInfo": {
          "status": "ok",
          "timestamp": 1532377673562,
          "user_tz": -240,
          "elapsed": 1496,
          "user": {
            "displayName": "Александр Мамаев",
            "photoUrl": "//lh5.googleusercontent.com/-p5lRdcZ8PCM/AAAAAAAAAAI/AAAAAAAALD8/m_dzDa69z-E/s50-c-k-no/photo.jpg",
            "userId": "104021652743759616096"
          }
        }
      },
      "cell_type": "code",
      "source": [
        "plt.imshow(train_dataset[123][\"mel\"][0])"
      ],
      "execution_count": 56,
      "outputs": [
        {
          "output_type": "execute_result",
          "data": {
            "text/plain": [
              "<matplotlib.image.AxesImage at 0x7f55d02c7da0>"
            ]
          },
          "metadata": {
            "tags": []
          },
          "execution_count": 56
        },
        {
          "output_type": "display_data",
          "data": {
            "image/png": "[encoded data removed]",
            "text/plain": [
              "<matplotlib.figure.Figure at 0x7f55d02c9390>"
            ]
          },
          "metadata": {
            "tags": []
          }
        }
      ]
    },
    {
      "metadata": {
        "id": "MUTNJsjA68aP",
        "colab_type": "code",
        "colab": {
          "autoexec": {
            "startup": false,
            "wait_interval": 0
          }
        }
      },
      "cell_type": "code",
      "source": [
        "num_epochs = 100\n",
        "learning_rate = 0.0001\n",
        "\n",
        "criterion = nn.CrossEntropyLoss()\n",
        "optimizer = torch.optim.Adam(model.parameters(), lr=learning_rate)"
      ],
      "execution_count": 0,
      "outputs": []
    },
    {
      "metadata": {
        "id": "nI5aRgfzO2TF",
        "colab_type": "code",
        "colab": {
          "autoexec": {
            "startup": false,
            "wait_interval": 0
          }
        }
      },
      "cell_type": "code",
      "source": [
        "from sklearn.metrics import accuracy_score"
      ],
      "execution_count": 0,
      "outputs": []
    },
    {
      "metadata": {
        "id": "Am7L_hsP68aS",
        "colab_type": "code",
        "colab": {
          "autoexec": {
            "startup": false,
            "wait_interval": 0
          },
          "base_uri": "https://localhost:8080/",
          "height": 326
        },
        "outputId": "3de4ee14-2bef-440b-bec3-2f49ce9cd198",
        "executionInfo": {
          "status": "ok",
          "timestamp": 1532379156618,
          "user_tz": -240,
          "elapsed": 346,
          "user": {
            "displayName": "Александр Мамаев",
            "photoUrl": "//lh5.googleusercontent.com/-p5lRdcZ8PCM/AAAAAAAAAAI/AAAAAAAALD8/m_dzDa69z-E/s50-c-k-no/photo.jpg",
            "userId": "104021652743759616096"
          }
        }
      },
      "cell_type": "code",
      "source": [
        "liveloss = PlotLosses()\n",
        "total_step = len(train_dataloader)\n",
        "\n",
        "for epoch in range(num_epochs):\n",
        "    epoch_losses = []\n",
        "    epoch_accuracy = []\n",
        "    \n",
        "    for batch in train_dataloader:\n",
        "        mels = batch[\"mel\"].to(device)\n",
        "        labels = batch[\"target\"].to(device)\n",
        "        \n",
        "        outputs = model(mels)\n",
        "        loss = criterion(outputs, labels)\n",
        "\n",
        "        optimizer.zero_grad()\n",
        "        loss.backward()\n",
        "        optimizer.step()\n",
        "        \n",
        "        epoch_losses.append(loss.item())\n",
        "        epoch_accuracy.append(accuracy_score(torch.argmax(outputs, 1), labels))\n",
        "#         print(\"Epoch: %s;Batch: %s;Loss: %s\" % (epoch, i, loss.item()))\n",
        "    \n",
        "    accuracy_val = []\n",
        "    for batch in val_dataloader:\n",
        "        mels = batch[\"mel\"].to(device)\n",
        "        labels = batch[\"target\"].data.numpy()\n",
        "\n",
        "        out = model(mels)\n",
        "        pred = torch.argmax(out, 1).cpu().data.numpy()\n",
        "        accuracy_val.append(accuracy_score(pred, labels))\n",
        "    \n",
        "    liveloss.update({\n",
        "        'log loss': np.mean(epoch_losses),\n",
        "        'accuracy': np.mean(epoch_accuracy),\n",
        "        'val_accuracy': np.mean(accuracy_val)\n",
        "    })\n",
        "    liveloss.draw()"
      ],
      "execution_count": 59,
      "outputs": [
        {
          "output_type": "display_data",
          "data": {
            "image/png": "[encoded data removed]",
            "text/plain": [
              "<matplotlib.figure.Figure at 0x7f55d0ec3f60>"
            ]
          },
          "metadata": {
            "tags": []
          }
        }
      ]
    },
    {
      "metadata": {
        "id": "EMtdLga3aEfy",
        "colab_type": "code",
        "colab": {
          "autoexec": {
            "startup": false,
            "wait_interval": 0
          },
          "base_uri": "https://localhost:8080/",
          "height": 34
        },
        "outputId": "448be41b-5f62-46d5-bc3c-eee5c3a80cce",
        "executionInfo": {
          "status": "ok",
          "timestamp": 1532379160509,
          "user_tz": -240,
          "elapsed": 3859,
          "user": {
            "displayName": "Александр Мамаев",
            "photoUrl": "//lh5.googleusercontent.com/-p5lRdcZ8PCM/AAAAAAAAAAI/AAAAAAAALD8/m_dzDa69z-E/s50-c-k-no/photo.jpg",
            "userId": "104021652743759616096"
          }
        }
      },
      "cell_type": "code",
      "source": [
        "accuracy_val = []\n",
        "for batch in val_dataloader:\n",
        "    mels = batch[\"mel\"].to(device)\n",
        "    labels = batch[\"target\"].data.numpy()\n",
        "    \n",
        "    out = model(mels)\n",
        "    pred = torch.argmax(out, 1).cpu().data.numpy()\n",
        "    accuracy_val.append(accuracy_score(pred, labels))\n",
        "\n",
        "print(\"Test accuracy:\", np.mean(accuracy_val))"
      ],
      "execution_count": 60,
      "outputs": [
        {
          "output_type": "stream",
          "text": [
            "Test accuracy: 0.9886122881355932\n"
          ],
          "name": "stdout"
        }
      ]
    },
    {
      "metadata": {
        "id": "4yj7kyfEZpuW",
        "colab_type": "code",
        "colab": {
          "autoexec": {
            "startup": false,
            "wait_interval": 0
          }
        }
      },
      "cell_type": "code",
      "source": [
        "test_dataset = AudioDataset(WORKDIR_PATH+\"/test.csv\", WORKDIR_PATH+\"/test.npy\")\n",
        "test_dataloader = DataLoader(test_dataset, batch_size=32)"
      ],
      "execution_count": 0,
      "outputs": []
    },
    {
      "metadata": {
        "id": "lzYWTWyOmsQd",
        "colab_type": "code",
        "colab": {
          "autoexec": {
            "startup": false,
            "wait_interval": 0
          },
          "base_uri": "https://localhost:8080/",
          "height": 268
        },
        "outputId": "a9812e4e-eb8a-429d-f070-af4092128348",
        "executionInfo": {
          "status": "ok",
          "timestamp": 1532379395955,
          "user_tz": -240,
          "elapsed": 1428,
          "user": {
            "displayName": "Александр Мамаев",
            "photoUrl": "//lh5.googleusercontent.com/-p5lRdcZ8PCM/AAAAAAAAAAI/AAAAAAAALD8/m_dzDa69z-E/s50-c-k-no/photo.jpg",
            "userId": "104021652743759616096"
          }
        }
      },
      "cell_type": "code",
      "source": [
        "test_csv = pd.read_csv(WORKDIR_PATH+\"/test.csv\", index_col=0)\n",
        "test_csv.head()\n",
        "\n",
        "plt.imshow(test_dataset[5][\"mel\"][0])\n",
        "plt.show()"
      ],
      "execution_count": 62,
      "outputs": [
        {
          "output_type": "display_data",
          "data": {
            "image/png": "[encoded data removed]",
            "text/plain": [
              "<matplotlib.figure.Figure at 0x7f55d05680f0>"
            ]
          },
          "metadata": {
            "tags": []
          }
        }
      ]
    },
    {
      "metadata": {
        "id": "NCX9Prevmg6S",
        "colab_type": "code",
        "colab": {
          "autoexec": {
            "startup": false,
            "wait_interval": 0
          }
        }
      },
      "cell_type": "code",
      "source": [
        "submit_proba = []\n",
        "submit_labels = []\n",
        "\n",
        "for batch in test_dataloader:\n",
        "    mel = batch[\"mel\"].to(device)\n",
        "    model_output = nn.Softmax(dim=1)(model.forward(mel))\n",
        "    proba, labels = model_output.max(dim=1)\n",
        "    proba = proba.cpu().data.numpy()\n",
        "    labels = labels.cpu().data.numpy()\n",
        "\n",
        "    submit_proba.append(proba)\n",
        "    submit_labels.append(labels)"
      ],
      "execution_count": 0,
      "outputs": []
    },
    {
      "metadata": {
        "id": "qi3oD_EnnAGS",
        "colab_type": "code",
        "colab": {
          "autoexec": {
            "startup": false,
            "wait_interval": 0
          }
        }
      },
      "cell_type": "code",
      "source": [
        "submit_proba = np.concatenate(submit_proba)\n",
        "submit_labels = np.concatenate(submit_labels)"
      ],
      "execution_count": 0,
      "outputs": []
    },
    {
      "metadata": {
        "id": "XarZJtT-UAyl",
        "colab_type": "code",
        "colab": {
          "autoexec": {
            "startup": false,
            "wait_interval": 0
          },
          "base_uri": "https://localhost:8080/",
          "height": 278
        },
        "outputId": "b15d22a5-1ca0-4ded-9b84-c277d2f4ce9f",
        "executionInfo": {
          "status": "ok",
          "timestamp": 1532379400097,
          "user_tz": -240,
          "elapsed": 977,
          "user": {
            "displayName": "Александр Мамаев",
            "photoUrl": "//lh5.googleusercontent.com/-p5lRdcZ8PCM/AAAAAAAAAAI/AAAAAAAALD8/m_dzDa69z-E/s50-c-k-no/photo.jpg",
            "userId": "104021652743759616096"
          }
        }
      },
      "cell_type": "code",
      "source": [
        "test_csv[\"target\"] = le1.inverse_transform(submit_labels)\n",
        "test_csv[\"proba\"] = submit_proba\n",
        "test_csv = test_csv[[\"name\", \"proba\", \"target\"]]\n",
        "test_csv.head()"
      ],
      "execution_count": 65,
      "outputs": [
        {
          "output_type": "stream",
          "text": [
            "/usr/local/lib/python3.6/dist-packages/sklearn/preprocessing/label.py:151: DeprecationWarning: The truth value of an empty array is ambiguous. Returning False, but in future this will result in an error. Use `array.size > 0` to check that an array is not empty.\n",
            "  if diff:\n"
          ],
          "name": "stderr"
        },
        {
          "output_type": "execute_result",
          "data": {
            "text/html": [
              "<div>\n",
              "<style scoped>\n",
              "    .dataframe tbody tr th:only-of-type {\n",
              "        vertical-align: middle;\n",
              "    }\n",
              "\n",
              "    .dataframe tbody tr th {\n",
              "        vertical-align: top;\n",
              "    }\n",
              "\n",
              "    .dataframe thead th {\n",
              "        text-align: right;\n",
              "    }\n",
              "</style>\n",
              "<table border=\"1\" class=\"dataframe\">\n",
              "  <thead>\n",
              "    <tr style=\"text-align: right;\">\n",
              "      <th></th>\n",
              "      <th>name</th>\n",
              "      <th>proba</th>\n",
              "      <th>target</th>\n",
              "    </tr>\n",
              "  </thead>\n",
              "  <tbody>\n",
              "    <tr>\n",
              "      <th>0</th>\n",
              "      <td>unknown_0063.wav</td>\n",
              "      <td>0.998171</td>\n",
              "      <td>door</td>\n",
              "    </tr>\n",
              "    <tr>\n",
              "      <th>1</th>\n",
              "      <td>unknown_0077.wav</td>\n",
              "      <td>0.999739</td>\n",
              "      <td>keyboard</td>\n",
              "    </tr>\n",
              "    <tr>\n",
              "      <th>2</th>\n",
              "      <td>unknown_0088.wav</td>\n",
              "      <td>0.823622</td>\n",
              "      <td>tool</td>\n",
              "    </tr>\n",
              "    <tr>\n",
              "      <th>3</th>\n",
              "      <td>keyboard_0035.wav</td>\n",
              "      <td>1.000000</td>\n",
              "      <td>keyboard</td>\n",
              "    </tr>\n",
              "    <tr>\n",
              "      <th>4</th>\n",
              "      <td>knocking_door_t_0002.wav</td>\n",
              "      <td>0.999997</td>\n",
              "      <td>knocking_door</td>\n",
              "    </tr>\n",
              "  </tbody>\n",
              "</table>\n",
              "</div>"
            ],
            "text/plain": [
              "                       name     proba         target\n",
              "0          unknown_0063.wav  0.998171           door\n",
              "1          unknown_0077.wav  0.999739       keyboard\n",
              "2          unknown_0088.wav  0.823622           tool\n",
              "3         keyboard_0035.wav  1.000000       keyboard\n",
              "4  knocking_door_t_0002.wav  0.999997  knocking_door"
            ]
          },
          "metadata": {
            "tags": []
          },
          "execution_count": 65
        }
      ]
    },
    {
      "metadata": {
        "id": "aZT3Lf8lYinC",
        "colab_type": "code",
        "colab": {
          "autoexec": {
            "startup": false,
            "wait_interval": 0
          }
        }
      },
      "cell_type": "code",
      "source": [
        "test_csv.to_csv(WORKDIR_PATH+\"/my_result.txt\", index=False, header=False, sep=\"\\t\")"
      ],
      "execution_count": 0,
      "outputs": []
    },
    {
      "metadata": {
        "id": "QtKMpm1t7grN",
        "colab_type": "code",
        "colab": {
          "autoexec": {
            "startup": false,
            "wait_interval": 0
          },
          "base_uri": "https://localhost:8080/",
          "height": 34
        },
        "outputId": "b14fb61a-d8f1-4c50-ba0d-f4b0cc6fc2cc",
        "executionInfo": {
          "status": "ok",
          "timestamp": 1532379444262,
          "user_tz": -240,
          "elapsed": 3031,
          "user": {
            "displayName": "Александр Мамаев",
            "photoUrl": "//lh5.googleusercontent.com/-p5lRdcZ8PCM/AAAAAAAAAAI/AAAAAAAALD8/m_dzDa69z-E/s50-c-k-no/photo.jpg",
            "userId": "104021652743759616096"
          }
        }
      },
      "cell_type": "code",
      "source": [
        "accuracy_val = []\n",
        "for batch in val_dataloader:\n",
        "    mels = batch[\"mel\"].to(device)\n",
        "    labels = batch[\"target\"].data.numpy()\n",
        "    \n",
        "    out = model(mels)\n",
        "    pred = torch.argmax(out, 1).cpu().data.numpy()\n",
        "    accuracy_val.append(accuracy_score(pred, labels))\n",
        "\n",
        "print(\"Test accuracy:\", np.mean(accuracy_val))"
      ],
      "execution_count": 67,
      "outputs": [
        {
          "output_type": "stream",
          "text": [
            "Test accuracy: 0.9886122881355932\n"
          ],
          "name": "stdout"
        }
      ]
    },
    {
      "metadata": {
        "id": "U-8Ub_1j7qfE",
        "colab_type": "code",
        "colab": {
          "autoexec": {
            "startup": false,
            "wait_interval": 0
          }
        }
      },
      "cell_type": "code",
      "source": [
        ""
      ],
      "execution_count": 0,
      "outputs": []
    }
  ]
}